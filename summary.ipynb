{
 "cells": [
  {
   "cell_type": "markdown",
   "metadata": {},
   "source": [
    "### Leetcode Quick Review"
   ]
  },
  {
   "cell_type": "markdown",
   "metadata": {},
   "source": [
    "#### 1. Sorting and Searching "
   ]
  },
  {
   "cell_type": "markdown",
   "metadata": {},
   "source": [
    "#### Binary Search"
   ]
  },
  {
   "cell_type": "code",
   "execution_count": null,
   "metadata": {},
   "outputs": [],
   "source": [
    "class Solution:\n",
    "    def search(self, nums: List[int], target: int) -> int:\n",
    "        # check \n",
    "        if not nums:\n",
    "            return []\n",
    "        \n",
    "        # init \n",
    "        l, r = 0, len(nums) - 1\n",
    "        m = 0\n",
    "        \n",
    "        # for loop\n",
    "        while l + 1 < r :\n",
    "            m = (l + r) // 2\n",
    "            val = nums[m]\n",
    "            if val > target:\n",
    "                r = m\n",
    "            elif val < target:\n",
    "                l = m\n",
    "            elif val == target:\n",
    "                return m\n",
    "            \n",
    "        # output \n",
    "        if nums[l] == target:\n",
    "            return l\n",
    "        elif nums[r] == target:\n",
    "            return r\n",
    "        else:\n",
    "            return -1\n",
    "            \n",
    "        \n",
    "                \n",
    "        \n",
    "    "
   ]
  },
  {
   "cell_type": "markdown",
   "metadata": {},
   "source": [
    "#### Merge Sort "
   ]
  },
  {
   "cell_type": "code",
   "execution_count": 1,
   "metadata": {},
   "outputs": [],
   "source": [
    "# merge sort \n",
    "def mergeSort(nums):\n",
    "\tif len(nums) == 1:\n",
    "\t\treturn nums\n",
    "\tif len(nums) == 2:\n",
    "\t\tif nums[0] > nums[1]:\n",
    "\t\t\treturn [nums[1], nums[0]]\n",
    "\t\telse:\n",
    "\t\t\treturn [nums[0], nums[1]]\n",
    "\tmid = len(nums) // 2\n",
    "\t# else \n",
    "\tleft_sorted = mergeSort(nums[:mid])\n",
    "\tright_sorted = mergeSort(nums[mid:])\n",
    "\t# merge three pointers needed \n",
    "\t# the k: pointer for merged list\n",
    "\t# the i and j which are pointers of two arrays\n",
    "\ti = j = k = 0\n",
    "\tarr = [0] * (len(left_sorted) + len(right_sorted))\n",
    "\twhile i < len(left_sorted) and j < len(right_sorted):\n",
    "\t\tif left_sorted[i] < right_sorted[j]:\n",
    "\t\t\tarr[k] = left_sorted[i]\n",
    "\t\t\ti += 1\n",
    "\t\telse:\n",
    "\t\t\tarr[k] = right_sorted[j]\n",
    "\t\t\tj += 1\n",
    "\t\tk += 1\n",
    "\n",
    "\t# fill the the remaining elements with the remaining array\n",
    "\t# left element \n",
    "\twhile i < len(left_sorted):\n",
    "\t\tarr[k] = left_sorted[i]\n",
    "\t\ti += 1\n",
    "\t\tk += 1 \n",
    "\t# right element \n",
    "\twhile j < len(right_sorted):\n",
    "\t\tarr[k] = right_sorted[j]\n",
    "\t\tj += 1\n",
    "\t\tk += 1 \n",
    "\n",
    "\treturn arr\n",
    "\n",
    "\n"
   ]
  },
  {
   "cell_type": "code",
   "execution_count": 2,
   "metadata": {},
   "outputs": [
    {
     "data": {
      "text/plain": [
       "[1, 3, 6, 9]"
      ]
     },
     "execution_count": 2,
     "metadata": {},
     "output_type": "execute_result"
    }
   ],
   "source": [
    "mergeSort([3, 6, 9, 1])"
   ]
  },
  {
   "cell_type": "markdown",
   "metadata": {},
   "source": [
    "#### Quick Sort"
   ]
  },
  {
   "cell_type": "code",
   "execution_count": null,
   "metadata": {},
   "outputs": [],
   "source": [
    "\n",
    "\n",
    "# quick sort \n",
    "\n",
    "def quickSort(arr):\n",
    "    l = len(arr)\n",
    "    \n",
    "    # Base case\n",
    "    if l < 2:\n",
    "        return arr\n",
    "    \n",
    "    cur_pos = 0 #Position of the partitioning element\n",
    "    \n",
    "    # with the help of this function, the array can be splitted in two half > arr[0], half < arr[0]\n",
    "    for i in range(1, l): #Partitioning loop\n",
    "         if arr[i] <= arr[0]:\n",
    "            cur_pos += 1\n",
    "            arr[i],arr[cur_pos] = arr[cur_pos], arr[i]\n",
    "\n",
    "     #Brings pivot to it's appropriate position    \n",
    "     # cur_pos is the place for the last exchange\n",
    "     # after the following operation, pivot is one the right spot, all the items before the pivot are smaller than it      \n",
    "    arr[0], arr[cur_pos] = arr[cur_pos], arr[0] \n",
    "  \n",
    "    \n",
    "    left = quickSort(arr[:cur_pos]) #Sorts the elements to the left of pivot\n",
    "    right = quickSort(arr[cur_pos + 1: l]) #sorts the elements to the right of pivot\n",
    "\n",
    "    arr = left + [arr[cur_pos]] + right #Merging everything together\n",
    "    \n",
    "    return arr"
   ]
  },
  {
   "cell_type": "code",
   "execution_count": null,
   "metadata": {},
   "outputs": [],
   "source": []
  },
  {
   "cell_type": "code",
   "execution_count": null,
   "metadata": {},
   "outputs": [],
   "source": []
  },
  {
   "cell_type": "markdown",
   "metadata": {},
   "source": [
    "#### Search an element in a sorted and rotated array"
   ]
  },
  {
   "cell_type": "code",
   "execution_count": null,
   "metadata": {},
   "outputs": [],
   "source": [
    "class Solution:\n",
    "    def search(self, nums: List[int], target: int) -> int:\n",
    "        left, right = 0, len(nums) - 1\n",
    "        if not nums:\n",
    "            return -1\n",
    "        \n",
    "        while left + 1 < right:\n",
    "            mid = left + (right - left) // 2\n",
    "            if nums[mid] == target:\n",
    "                    return mid\n",
    "            if nums[left] < nums[mid]:\n",
    "                if nums[left] <= target <= nums[mid]:\n",
    "                    right = mid \n",
    "                else:\n",
    "                    left = mid\n",
    "            else:\n",
    "                if nums[mid] <= target <= nums[right]:\n",
    "                    left = mid\n",
    "                else:\n",
    "                    right = mid\n",
    "        if nums[left] == target:\n",
    "            return left\n",
    "        \n",
    "        if nums[right] == target:\n",
    "            return right\n",
    "        \n",
    "        return -1\n",
    "        \n",
    "                "
   ]
  },
  {
   "cell_type": "code",
   "execution_count": null,
   "metadata": {},
   "outputs": [],
   "source": []
  },
  {
   "cell_type": "code",
   "execution_count": null,
   "metadata": {},
   "outputs": [],
   "source": []
  },
  {
   "cell_type": "code",
   "execution_count": null,
   "metadata": {},
   "outputs": [],
   "source": []
  }
 ],
 "metadata": {
  "kernelspec": {
   "display_name": "Python 3",
   "language": "python",
   "name": "python3"
  },
  "language_info": {
   "codemirror_mode": {
    "name": "ipython",
    "version": 3
   },
   "file_extension": ".py",
   "mimetype": "text/x-python",
   "name": "python",
   "nbconvert_exporter": "python",
   "pygments_lexer": "ipython3",
   "version": "3.8.5"
  }
 },
 "nbformat": 4,
 "nbformat_minor": 4
}
