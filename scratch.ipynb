{
 "cells": [
  {
   "cell_type": "code",
   "execution_count": 1,
   "metadata": {},
   "outputs": [],
   "source": [
    "import numpy as np\n",
    "import pandas as pd"
   ]
  },
  {
   "cell_type": "code",
   "execution_count": 2,
   "metadata": {},
   "outputs": [
    {
     "data": {
      "text/plain": [
       "1"
      ]
     },
     "execution_count": 2,
     "metadata": {},
     "output_type": "execute_result"
    }
   ],
   "source": [
    "5 % 2 "
   ]
  },
  {
   "cell_type": "code",
   "execution_count": 3,
   "metadata": {},
   "outputs": [
    {
     "data": {
      "text/plain": [
       "0"
      ]
     },
     "execution_count": 3,
     "metadata": {},
     "output_type": "execute_result"
    }
   ],
   "source": [
    "6 % 2"
   ]
  },
  {
   "cell_type": "code",
   "execution_count": 5,
   "metadata": {},
   "outputs": [
    {
     "data": {
      "text/plain": [
       "[-4, 1, 3, 5]"
      ]
     },
     "execution_count": 5,
     "metadata": {},
     "output_type": "execute_result"
    }
   ],
   "source": [
    "tmp_list = [1, 5 ,3, -4]\n",
    "sorted(tmp_list)"
   ]
  },
  {
   "cell_type": "code",
   "execution_count": 6,
   "metadata": {},
   "outputs": [
    {
     "data": {
      "text/plain": [
       "[5, 3]"
      ]
     },
     "execution_count": 6,
     "metadata": {},
     "output_type": "execute_result"
    }
   ],
   "source": [
    "tmp_list[1:3]"
   ]
  },
  {
   "cell_type": "code",
   "execution_count": 5,
   "metadata": {},
   "outputs": [],
   "source": [
    "import heapq\n",
    "\n",
    "def medianSlidingWindow(nums, k):\n",
    "\tsmall, large = [], []\n",
    "\tfor i, x in enumerate(nums[:k]): \n",
    "\t\theapq.heappush(small, (-x,i))\n",
    "\tfor _ in range(k-(k>>1)): \n",
    "\t\tmove(small, large)\n",
    "\tans = [get_med(small, large, k)]\n",
    "\tfor i, x in enumerate(nums[k:]):\n",
    "\t\tif x >= large[0][0]:\n",
    "\t\t\theapq.heappush(large, (x, i+k))\n",
    "\t\t\tif nums[i] <= large[0][0]: \n",
    "\t\t\t\tmove(large, small)\n",
    "\t\telse:\n",
    "\t\t\theapq.heappush(small, (-x, i+k))\n",
    "\t\t\tif nums[i] >= large[0][0]: \n",
    "\t\t\t\tmove(small, large)\n",
    "\t\twhile small and small[0][1] <= i: \n",
    "\t\t\theapq.heappop(small)\n",
    "\t\twhile large and large[0][1] <= i: \n",
    "\t\t\theapq.heappop(large)\n",
    "\t\tans.append(get_med(small, large, k))\n",
    "\treturn ans\n",
    "\n",
    "def move(h1, h2):\n",
    "\tx, i = heapq.heappop(h1)\n",
    "\theapq.heappush(h2, (-x, i))\n",
    "\t\n",
    "def get_med(h1, h2, k):\n",
    "\treturn h2[0][0] * 1. if k & 1 else (h2[0][0]-h1[0][0]) / 2."
   ]
  },
  {
   "cell_type": "code",
   "execution_count": 8,
   "metadata": {},
   "outputs": [
    {
     "data": {
      "text/plain": [
       "[3.0, 3.0, 3.0, 4.0, 5.0]"
      ]
     },
     "execution_count": 8,
     "metadata": {},
     "output_type": "execute_result"
    }
   ],
   "source": [
    "medianSlidingWindow([5,1,3,4,2,5,6], 3)"
   ]
  },
  {
   "cell_type": "code",
   "execution_count": 10,
   "metadata": {},
   "outputs": [],
   "source": [
    "small = []"
   ]
  },
  {
   "cell_type": "code",
   "execution_count": 11,
   "metadata": {},
   "outputs": [],
   "source": [
    "heapq.heappush(small, (-5,1))"
   ]
  },
  {
   "cell_type": "code",
   "execution_count": 12,
   "metadata": {},
   "outputs": [
    {
     "data": {
      "text/plain": [
       "[(-5, 1)]"
      ]
     },
     "execution_count": 12,
     "metadata": {},
     "output_type": "execute_result"
    }
   ],
   "source": [
    "small\n"
   ]
  },
  {
   "cell_type": "code",
   "execution_count": 17,
   "metadata": {},
   "outputs": [],
   "source": [
    "heapq.heappush(small, (-5,1, 9))\n",
    "k = 3"
   ]
  },
  {
   "cell_type": "code",
   "execution_count": 3,
   "metadata": {},
   "outputs": [],
   "source": [
    "nums = [5,1,3,4,2,5,6]\n",
    "k = 3"
   ]
  },
  {
   "cell_type": "code",
   "execution_count": 9,
   "metadata": {},
   "outputs": [
    {
     "name": "stdout",
     "output_type": "stream",
     "text": [
      "(0, 5)\n",
      "(1, 1)\n",
      "(2, 3)\n"
     ]
    }
   ],
   "source": [
    "small = []\n",
    "for i, x in enumerate(nums[:k]): \n",
    "#heapq.heappush(small, (-x,i))\n",
    "    print((i, x))\n",
    "    heapq.heappush(small, (x, i ))"
   ]
  },
  {
   "cell_type": "code",
   "execution_count": 10,
   "metadata": {},
   "outputs": [
    {
     "data": {
      "text/plain": [
       "[(1, 1), (5, 0), (3, 2)]"
      ]
     },
     "execution_count": 10,
     "metadata": {},
     "output_type": "execute_result"
    }
   ],
   "source": [
    "small"
   ]
  },
  {
   "cell_type": "code",
   "execution_count": 12,
   "metadata": {},
   "outputs": [
    {
     "name": "stdout",
     "output_type": "stream",
     "text": [
      "(0, 5)\n",
      "(1, 1)\n",
      "(2, 3)\n",
      "(3, 4)\n",
      "(4, 2)\n",
      "(5, 5)\n",
      "(6, 6)\n"
     ]
    }
   ],
   "source": [
    "small = []\n",
    "for i, x in enumerate(nums): \n",
    "#heapq.heappush(small, (-x,i))\n",
    "    print((i, x))\n",
    "    heapq.heappush(small, x)"
   ]
  },
  {
   "cell_type": "code",
   "execution_count": 14,
   "metadata": {},
   "outputs": [],
   "source": [
    "heapq.heapify(nums)"
   ]
  },
  {
   "cell_type": "code",
   "execution_count": 15,
   "metadata": {},
   "outputs": [
    {
     "data": {
      "text/plain": [
       "[1, 2, 3, 4, 5, 5, 6]"
      ]
     },
     "execution_count": 15,
     "metadata": {},
     "output_type": "execute_result"
    }
   ],
   "source": [
    "nums"
   ]
  },
  {
   "cell_type": "code",
   "execution_count": 13,
   "metadata": {},
   "outputs": [
    {
     "data": {
      "text/plain": [
       "[1, 2, 3, 5, 4, 5, 6]"
      ]
     },
     "execution_count": 13,
     "metadata": {},
     "output_type": "execute_result"
    }
   ],
   "source": [
    "small"
   ]
  },
  {
   "cell_type": "code",
   "execution_count": 44,
   "metadata": {},
   "outputs": [],
   "source": [
    "heapq.heapify(small)"
   ]
  },
  {
   "cell_type": "code",
   "execution_count": 50,
   "metadata": {},
   "outputs": [],
   "source": [
    "small = [1, 4, 6, 2]"
   ]
  },
  {
   "cell_type": "code",
   "execution_count": 54,
   "metadata": {},
   "outputs": [
    {
     "data": {
      "text/plain": [
       "6"
      ]
     },
     "execution_count": 54,
     "metadata": {},
     "output_type": "execute_result"
    }
   ],
   "source": [
    "heapq.heappop(small)"
   ]
  },
  {
   "cell_type": "code",
   "execution_count": 23,
   "metadata": {},
   "outputs": [],
   "source": [
    "heapq.heapify(nums)"
   ]
  },
  {
   "cell_type": "code",
   "execution_count": 25,
   "metadata": {},
   "outputs": [
    {
     "data": {
      "text/plain": [
       "1"
      ]
     },
     "execution_count": 25,
     "metadata": {},
     "output_type": "execute_result"
    }
   ],
   "source": [
    "3 >> 1"
   ]
  },
  {
   "cell_type": "code",
   "execution_count": 26,
   "metadata": {},
   "outputs": [
    {
     "data": {
      "text/plain": [
       "2"
      ]
     },
     "execution_count": 26,
     "metadata": {},
     "output_type": "execute_result"
    }
   ],
   "source": [
    "5>>1"
   ]
  },
  {
   "cell_type": "code",
   "execution_count": 28,
   "metadata": {},
   "outputs": [
    {
     "data": {
      "text/plain": [
       "3"
      ]
     },
     "execution_count": 28,
     "metadata": {},
     "output_type": "execute_result"
    }
   ],
   "source": [
    "24 >> 3"
   ]
  },
  {
   "cell_type": "code",
   "execution_count": 29,
   "metadata": {},
   "outputs": [
    {
     "data": {
      "text/plain": [
       "6"
      ]
     },
     "execution_count": 29,
     "metadata": {},
     "output_type": "execute_result"
    }
   ],
   "source": [
    "48 >> 3"
   ]
  },
  {
   "cell_type": "code",
   "execution_count": 31,
   "metadata": {},
   "outputs": [
    {
     "data": {
      "text/plain": [
       "6"
      ]
     },
     "execution_count": 31,
     "metadata": {},
     "output_type": "execute_result"
    }
   ],
   "source": [
    "55 >> 3"
   ]
  },
  {
   "cell_type": "code",
   "execution_count": 19,
   "metadata": {},
   "outputs": [],
   "source": [
    "i = 129\n",
    "[ int(num) for num in str(i)]\n",
    "int_vec = [ int(num) for num in str(i)]\n",
    "r = sum(int_vec)/len(int_vec)\n",
    "r = sum(int_vec)//len(int_vec)\n",
    "test_vec = []\n",
    "for i in range(r):\n",
    "    test_vec += int_vec"
   ]
  },
  {
   "cell_type": "code",
   "execution_count": 20,
   "metadata": {},
   "outputs": [
    {
     "data": {
      "text/plain": [
       "[1, 2, 9, 1, 2, 9, 1, 2, 9, 1, 2, 9]"
      ]
     },
     "execution_count": 20,
     "metadata": {},
     "output_type": "execute_result"
    }
   ],
   "source": [
    "test_vec"
   ]
  },
  {
   "cell_type": "code",
   "execution_count": 34,
   "metadata": {},
   "outputs": [],
   "source": [
    "def scrollingNum(a, b):\n",
    "    res = []\n",
    "    for i in range(a, b):\n",
    "        int_vec = [ int(num) for num in str(i)]\n",
    "        # filter 0 and repetative \n",
    "        if 0 in int_vec or len(int_vec) != len(set(int_vec)):\n",
    "            continue\n",
    "        if not sum(int_vec) % len(int_vec) == 0:\n",
    "            continue\n",
    "        else:\n",
    "            r = sum(int_vec)//len(int_vec)\n",
    "            test_vec = []\n",
    "            for _ in range(r):\n",
    "                test_vec += int_vec\n",
    "            visited = []\n",
    "            pt = 0\n",
    "            idx = 0\n",
    "            for _ in range(len(int_vec)):\n",
    "                tmp_v = test_vec[pt]\n",
    "                if not tmp_v in visited:\n",
    "                    visited.append(tmp_v)\n",
    "                    pt += tmp_v\n",
    "                else:\n",
    "                    break\n",
    "            if len(visited) == len(int_vec):\n",
    "                res.append(i)\n",
    "    return res\n",
    "                           "
   ]
  },
  {
   "cell_type": "code",
   "execution_count": 33,
   "metadata": {},
   "outputs": [
    {
     "name": "stdout",
     "output_type": "stream",
     "text": [
      "No\n"
     ]
    },
    {
     "data": {
      "text/plain": [
       "[1, 2]"
      ]
     },
     "execution_count": 33,
     "metadata": {},
     "output_type": "execute_result"
    }
   ],
   "source": [
    "int_vec = [1, 2, 3]\n",
    "visited = []\n",
    "pt = 0\n",
    "idx = 0\n",
    "for _ in range(len(int_vec)):\n",
    "    tmp_v = test_vec[pt]\n",
    "    if not tmp_v in visited:\n",
    "        visited.append(tmp_v)\n",
    "        pt += tmp_v\n",
    "    else:\n",
    "        print(\"No\")\n",
    "        break\n",
    "visited"
   ]
  },
  {
   "cell_type": "code",
   "execution_count": null,
   "metadata": {},
   "outputs": [],
   "source": []
  },
  {
   "cell_type": "code",
   "execution_count": 35,
   "metadata": {},
   "outputs": [
    {
     "data": {
      "text/plain": [
       "[147, 174, 258, 285, 417, 471]"
      ]
     },
     "execution_count": 35,
     "metadata": {},
     "output_type": "execute_result"
    }
   ],
   "source": [
    "scrollingNum(100, 500)"
   ]
  },
  {
   "cell_type": "code",
   "execution_count": 7,
   "metadata": {},
   "outputs": [],
   "source": [
    "a = list(range(10))"
   ]
  },
  {
   "cell_type": "code",
   "execution_count": 4,
   "metadata": {},
   "outputs": [
    {
     "data": {
      "text/plain": [
       "[]"
      ]
     },
     "execution_count": 4,
     "metadata": {},
     "output_type": "execute_result"
    }
   ],
   "source": [
    "a[-1:0]"
   ]
  },
  {
   "cell_type": "code",
   "execution_count": 13,
   "metadata": {},
   "outputs": [],
   "source": [
    "a.reverse()"
   ]
  },
  {
   "cell_type": "code",
   "execution_count": 9,
   "metadata": {},
   "outputs": [
    {
     "data": {
      "text/plain": [
       "[9, 8, 7, 6, 5, 4, 3, 2, 1, 0]"
      ]
     },
     "execution_count": 9,
     "metadata": {},
     "output_type": "execute_result"
    }
   ],
   "source": [
    "a"
   ]
  },
  {
   "cell_type": "code",
   "execution_count": 10,
   "metadata": {},
   "outputs": [
    {
     "data": {
      "text/plain": [
       "[0, 1, 2, 3, 4, 5, 6, 7, 8, 9]"
      ]
     },
     "execution_count": 10,
     "metadata": {},
     "output_type": "execute_result"
    }
   ],
   "source": [
    "a[::-1]"
   ]
  },
  {
   "cell_type": "code",
   "execution_count": 11,
   "metadata": {},
   "outputs": [
    {
     "data": {
      "text/plain": [
       "[0, 1, 2, 3, 4, 5, 6]"
      ]
     },
     "execution_count": 11,
     "metadata": {},
     "output_type": "execute_result"
    }
   ],
   "source": [
    "a[:2:-1]"
   ]
  },
  {
   "cell_type": "code",
   "execution_count": 15,
   "metadata": {},
   "outputs": [
    {
     "data": {
      "text/plain": [
       "[0, 1, 2, 3]"
      ]
     },
     "execution_count": 15,
     "metadata": {},
     "output_type": "execute_result"
    }
   ],
   "source": [
    "a[0:4]"
   ]
  },
  {
   "cell_type": "code",
   "execution_count": 19,
   "metadata": {},
   "outputs": [
    {
     "data": {
      "text/plain": [
       "[3, 5]"
      ]
     },
     "execution_count": 19,
     "metadata": {},
     "output_type": "execute_result"
    }
   ],
   "source": [
    "a[3:6:2]"
   ]
  },
  {
   "cell_type": "code",
   "execution_count": 20,
   "metadata": {},
   "outputs": [
    {
     "data": {
      "text/plain": [
       "[3, 5, 7, 9]"
      ]
     },
     "execution_count": 20,
     "metadata": {},
     "output_type": "execute_result"
    }
   ],
   "source": [
    "a[3::2]"
   ]
  },
  {
   "cell_type": "code",
   "execution_count": 23,
   "metadata": {},
   "outputs": [],
   "source": [
    "# merge sort \n",
    "def mergeSort(nums):\n",
    "\tif len(nums) == 1:\n",
    "\t\treturn nums\n",
    "\tif len(nums) == 2:\n",
    "\t\tif nums[0] > nums[1]:\n",
    "\t\t\treturn [nums[1], nums[0]]\n",
    "\t\telse:\n",
    "\t\t\treturn [nums[0], nums[1]]\n",
    "\tmid = len(nums) // 2\n",
    "\t# else \n",
    "\tleft_sorted = mergeSort(nums[:mid])\n",
    "\tright_sorted = mergeSort(nums[mid:])\n",
    "\t# merge \n",
    "\ti = j = k = 0\n",
    "\tarr = [0] * (len(left_sorted) + len(right_sorted))\n",
    "\twhile i < len(left_sorted) and j < len(right_sorted):\n",
    "\t\tif left_sorted[i] < right_sorted[j]:\n",
    "\t\t\tarr[k] = left_sorted[i]\n",
    "\t\t\ti += 1\n",
    "\t\telse:\n",
    "\t\t\tarr[k] = right_sorted[j]\n",
    "\t\t\tj += 1\n",
    "\t\tk += 1\n",
    "\n",
    "\t# left element \n",
    "\twhile i < len(left_sorted):\n",
    "\t\tarr[k] = left_sorted[i]\n",
    "\t\ti += 1\n",
    "\t\tk += 1 \n",
    "\n",
    "\twhile j < len(right_sorted):\n",
    "\t\tprint(j)\n",
    "\t\tarr[k] = right_sorted[j]\n",
    "\t\tj += 1\n",
    "\t\tk += 1 \n",
    "\n",
    "\treturn arr"
   ]
  },
  {
   "cell_type": "code",
   "execution_count": 24,
   "metadata": {},
   "outputs": [
    {
     "name": "stdout",
     "output_type": "stream",
     "text": [
      "2\n"
     ]
    },
    {
     "data": {
      "text/plain": [
       "[1, 4, 9, 46, 96]"
      ]
     },
     "execution_count": 24,
     "metadata": {},
     "output_type": "execute_result"
    }
   ],
   "source": [
    "mergeSort([4,46,96, 9,1])"
   ]
  },
  {
   "cell_type": "code",
   "execution_count": 31,
   "metadata": {},
   "outputs": [],
   "source": [
    "def quickSort(arr):\n",
    "    l = len(arr)\n",
    "    \n",
    "    # Base case\n",
    "    if l < 2:\n",
    "        return arr\n",
    "    \n",
    "    cur_pos = 0 #Position of the partitioning element\n",
    "\n",
    "    for i in range(1, l): #Partitioning loop\n",
    "        if arr[i] <= arr[0]:\n",
    "            cur_pos += 1\n",
    "            arr[i],arr[cur_pos] = arr[cur_pos], arr[i]\n",
    "\n",
    "     #Brings pivot to it's appropriate position         \n",
    "    arr[0], arr[cur_pos] = arr[cur_pos], arr[0] \n",
    "  \n",
    "    left = quickSort(arr[:cur_pos]) #Sorts the elements to the left of pivot\n",
    "    right = quickSort(arr[cur_pos + 1: l]) #sorts the elements to the right of pivot\n",
    "\n",
    "    arr = left + [arr[cur_pos]] + right #Merging everything together\n",
    "    \n",
    "    return arr"
   ]
  },
  {
   "cell_type": "code",
   "execution_count": 32,
   "metadata": {},
   "outputs": [
    {
     "data": {
      "text/plain": [
       "[1, 4, 9, 46, 96]"
      ]
     },
     "execution_count": 32,
     "metadata": {},
     "output_type": "execute_result"
    }
   ],
   "source": [
    "quickSort([4,46,96, 9,1])"
   ]
  },
  {
   "cell_type": "code",
   "execution_count": 33,
   "metadata": {},
   "outputs": [
    {
     "data": {
      "text/plain": [
       "[1, 4, 6, 9, 46, 96]"
      ]
     },
     "execution_count": 33,
     "metadata": {},
     "output_type": "execute_result"
    }
   ],
   "source": [
    "quickSort([6, 4,46,96, 9,1])"
   ]
  },
  {
   "cell_type": "code",
   "execution_count": null,
   "metadata": {},
   "outputs": [],
   "source": [
    "mport collections\n",
    "# Definition for a binary tree node.\n",
    "class TreeNode:\n",
    "    def __init__(self, x):\n",
    "        self.val = x\n",
    "        self.left = None\n",
    "        self.right = None\n",
    "class Solution():\n",
    "    def distanceK(self, root, target, K):\n",
    "        # check the input\n",
    "        if not root or not target or not K:\n",
    "            return []\n",
    "        \n",
    "        # init\n",
    "        graph = collections.defaultdict(list)\n",
    "        \n",
    "        \n",
    "        # dfs function \n",
    "        def conn(parent, child):\n",
    "            # in-order travasel\n",
    "            if parent and child:\n",
    "                graph[parent.val].append(child.val)\n",
    "                graph[child.val].append(parent.val)  \n",
    "            \n",
    "            # child trees\n",
    "            if child.left: conn(child, child.left)\n",
    "            if child.right: conn(child, child.right)\n",
    "                \n",
    "        # run the dfs and build the graph\n",
    "        conn(None, root)\n",
    "        \n",
    "        # bfs for k steps\n",
    "        visited = set()\n",
    "        queue = collections.deque()\n",
    "        tmp_queue = collections.deque()\n",
    "        res = []\n",
    "        \n",
    "        # main loop\n",
    "        queue.append(target.val) \n",
    "        visited.add(target.val)\n",
    "        \n",
    "        for i in range(K):\n",
    "            queue = tmp_queue\n",
    "            tmp_queue = collections.deque()\n",
    "            while queue:\n",
    "                cur_node = queue.popleft()\n",
    "                print(cur_node)\n",
    "                for neighbor in graph[cur_node]:\n",
    "                    if neighbor not in visited:\n",
    "                        print(neighbor)\n",
    "                        tmp_queue.append(neighbor)\n",
    "                        visited.add(neighbor)\n",
    "                    \n",
    "        return list(tmp_queue)"
   ]
  },
  {
   "cell_type": "code",
   "execution_count": 1,
   "metadata": {},
   "outputs": [],
   "source": [
    "class TreeNode:\n",
    "    def __init__(self, x):\n",
    "        self.val = x\n",
    "        self.left = None\n",
    "        self.right = None"
   ]
  },
  {
   "cell_type": "code",
   "execution_count": 2,
   "metadata": {},
   "outputs": [],
   "source": [
    "root = TreeNode(1)\n",
    "root.left = TreeNode(2)\n",
    "root.right = TreeNode(3)"
   ]
  },
  {
   "cell_type": "code",
   "execution_count": 8,
   "metadata": {},
   "outputs": [],
   "source": [
    "import collections"
   ]
  },
  {
   "cell_type": "code",
   "execution_count": 16,
   "metadata": {},
   "outputs": [],
   "source": [
    "distance = collections.defaultdict(int)"
   ]
  },
  {
   "cell_type": "code",
   "execution_count": 17,
   "metadata": {},
   "outputs": [],
   "source": [
    "distance[root] = 0"
   ]
  },
  {
   "cell_type": "code",
   "execution_count": 23,
   "metadata": {},
   "outputs": [],
   "source": [
    "class Solution:\n",
    "    def findBottomLeftValue(self, root: TreeNode) -> int:\n",
    "        # check input\n",
    "        if not root:\n",
    "            return []\n",
    "        \n",
    "        # init \n",
    "        queue = collections.deque([root])\n",
    "        res = [[root.val]]\n",
    "        level = [root.val]\n",
    "        distance = collections.defaultdict(int)\n",
    "        distance[root] = 0\n",
    "        \n",
    "        # main loop\n",
    "        while queue:\n",
    "            size = len(level)\n",
    "            level = []\n",
    "            for i in range(size):\n",
    "                cur_node = queue.popleft()\n",
    "                if cur_node.left:\n",
    "                    if cur_node.left not in distance:\n",
    "                        distance[cur_node.left] = distance[cur_node] + 1\n",
    "                        level.append(cur_node.left.val)\n",
    "                        queue.append(cur_node.left)\n",
    "                if cur_node.right:\n",
    "                    if cur_node.right not in distance:\n",
    "                        distance[cur_node.right] = distance[cur_node] + 1\n",
    "                        level.append(cur_node.right.val)\n",
    "                        queue.append(cur_node.right)\n",
    "            if len(level) > 0:\n",
    "                res.append(level)\n",
    "        # output (the last result but the first item of that list)\n",
    "        output = res[-1][0]\n",
    "        return output"
   ]
  },
  {
   "cell_type": "code",
   "execution_count": 24,
   "metadata": {},
   "outputs": [
    {
     "data": {
      "text/plain": [
       "2"
      ]
     },
     "execution_count": 24,
     "metadata": {},
     "output_type": "execute_result"
    }
   ],
   "source": [
    "s = Solution()\n",
    "s.findBottomLeftValue(root = root)"
   ]
  },
  {
   "cell_type": "code",
   "execution_count": null,
   "metadata": {},
   "outputs": [],
   "source": [
    "def updateMatrix(self, A):\n",
    "    R, C = len(A), len(A[0])\n",
    "    def neighbors(r, c):\n",
    "        for cr, cc in ((r-1,c),(r+1,c),(r,c-1),(r,c+1)):\n",
    "            if 0 <= cr < R and 0 <= cc < C:\n",
    "                yield cr, cc\n",
    "                \n",
    "    q = collections.deque([((r, c), 0) \n",
    "            for r in xrange(R) \n",
    "            for c in xrange(C) \n",
    "            if A[r][c] == 0])\n",
    "    seen = {x for x,_ in q}\n",
    "    ans = [[0]*C for _ in A]\n",
    "    while q:\n",
    "        (r, c), depth = q.popleft()\n",
    "        ans[r][c] = depth\n",
    "        for nei in neighbors(r, c):\n",
    "            if nei not in seen:\n",
    "                seen.add(nei)\n",
    "                q.append((nei, depth + 1))\n",
    "    \n",
    "    return ans"
   ]
  },
  {
   "cell_type": "code",
   "execution_count": 46,
   "metadata": {},
   "outputs": [],
   "source": [
    "class Solution:\n",
    "    def updateMatrix(self, matrix):\n",
    "        # diget\n",
    "        n = len(matrix)\n",
    "        p = len(matrix[0])\n",
    "        \n",
    "        # helper function\n",
    "        def neighbor(r, c):\n",
    "            dirs = [(r + 1, c), (r - 1, c), (r, c + 1), (r, c - 1)]\n",
    "            for rn, cn in dirs:\n",
    "                if 0 <= rn < n and 0 <= cn < p:\n",
    "                    yield rn, cn\n",
    "                    \n",
    "                    \n",
    "        # bfs init\n",
    "        queue = collections.deque(((r, c), 0) for c in range(p) for r in range(n) if matrix[r][c] == 0)\n",
    "        distance = collections.defaultdict(int)\n",
    "        ans = [ [0] * p  for _ in range(n) ]\n",
    "        level = []\n",
    "        \n",
    "        \n",
    "        # import all the nodes\n",
    "        items = [((r, c), 0) for c in range(p) for r in range(n) if matrix[r][c] == 0 ]\n",
    "        for i in items:\n",
    "            distance[i[0]] = 0\n",
    "            level.append(i[0])\n",
    "        \n",
    "        \n",
    "        # loop\n",
    "        while queue:\n",
    "            size = len(level)\n",
    "            level = []\n",
    "            for i in range(size):\n",
    "                (r, c), depth = queue.popleft()\n",
    "                ans[r][c] = depth\n",
    "                for neighbor_i in neighbor(r, c):\n",
    "                    if neighbor_i not in distance:\n",
    "                        distance[neighbor_i] = depth + 1\n",
    "                        queue.append((neighbor_i, depth + 1)) \n",
    "                        level.append(neighbor_i)\n",
    "        \n",
    "        return ans\n",
    "        \n",
    "                \n",
    "        \n",
    "        \n",
    "        \n",
    "                "
   ]
  },
  {
   "cell_type": "code",
   "execution_count": 39,
   "metadata": {},
   "outputs": [],
   "source": [
    "matrix = [[0,0,0],[0,1,0],[0,0,0]]"
   ]
  },
  {
   "cell_type": "code",
   "execution_count": 47,
   "metadata": {},
   "outputs": [
    {
     "data": {
      "text/plain": [
       "[[0, 0, 0], [0, 1, 0], [0, 0, 0]]"
      ]
     },
     "execution_count": 47,
     "metadata": {},
     "output_type": "execute_result"
    }
   ],
   "source": [
    "s = Solution()\n",
    "s.updateMatrix(matrix)"
   ]
  },
  {
   "cell_type": "code",
   "execution_count": 33,
   "metadata": {},
   "outputs": [],
   "source": [
    "n = len(matrix)\n",
    "p = len(matrix[0])\n",
    "queue = collections.deque(((r, c), 0) for c in range(p) for r in range(n) if matrix[r][c] == 0)\n"
   ]
  },
  {
   "cell_type": "code",
   "execution_count": 29,
   "metadata": {},
   "outputs": [],
   "source": [
    "queue.append(items)"
   ]
  },
  {
   "cell_type": "code",
   "execution_count": 34,
   "metadata": {},
   "outputs": [
    {
     "data": {
      "text/plain": [
       "deque([((0, 0), 0),\n",
       "       ((1, 0), 0),\n",
       "       ((2, 0), 0),\n",
       "       ((0, 1), 0),\n",
       "       ((2, 1), 0),\n",
       "       ((0, 2), 0),\n",
       "       ((1, 2), 0),\n",
       "       ((2, 2), 0)])"
      ]
     },
     "execution_count": 34,
     "metadata": {},
     "output_type": "execute_result"
    }
   ],
   "source": [
    "queue"
   ]
  },
  {
   "cell_type": "code",
   "execution_count": 35,
   "metadata": {},
   "outputs": [],
   "source": [
    "a = queue.popleft()"
   ]
  },
  {
   "cell_type": "code",
   "execution_count": 36,
   "metadata": {},
   "outputs": [
    {
     "data": {
      "text/plain": [
       "((0, 0), 0)"
      ]
     },
     "execution_count": 36,
     "metadata": {},
     "output_type": "execute_result"
    }
   ],
   "source": [
    "a"
   ]
  },
  {
   "cell_type": "code",
   "execution_count": 49,
   "metadata": {},
   "outputs": [],
   "source": [
    "def construct_dict(word_list):\n",
    "    d = {}\n",
    "    for word in word_list:\n",
    "        for i in range(len(word)):\n",
    "            s = word[:i] + \"_\" + word[i+1:]\n",
    "            d[s] = d.get(s, []) + [word]\n",
    "    return d"
   ]
  },
  {
   "cell_type": "code",
   "execution_count": 51,
   "metadata": {},
   "outputs": [
    {
     "data": {
      "text/plain": [
       "{'_bc': ['abc'],\n",
       " 'a_c': ['abc'],\n",
       " 'ab_': ['abc', 'abe'],\n",
       " '_ee': ['dee'],\n",
       " 'd_e': ['dee'],\n",
       " 'de_': ['dee'],\n",
       " '_be': ['abe'],\n",
       " 'a_e': ['abe']}"
      ]
     },
     "execution_count": 51,
     "metadata": {},
     "output_type": "execute_result"
    }
   ],
   "source": [
    "construct_dict(['abc', 'dee', 'abe'])"
   ]
  },
  {
   "cell_type": "code",
   "execution_count": 54,
   "metadata": {},
   "outputs": [],
   "source": [
    "wordList = ['a', 'b']\n",
    "beginWord = 'c'\n",
    "endWord = 'd'"
   ]
  },
  {
   "cell_type": "code",
   "execution_count": 57,
   "metadata": {},
   "outputs": [
    {
     "data": {
      "text/plain": [
       "{'a', 'b', 'c', 'd'}"
      ]
     },
     "execution_count": 57,
     "metadata": {},
     "output_type": "execute_result"
    }
   ],
   "source": [
    "set(wordList) | set([beginWord, endWord])"
   ]
  },
  {
   "cell_type": "code",
   "execution_count": 56,
   "metadata": {},
   "outputs": [
    {
     "data": {
      "text/plain": [
       "{'c', 'd'}"
      ]
     },
     "execution_count": 56,
     "metadata": {},
     "output_type": "execute_result"
    }
   ],
   "source": [
    "set([beginWord, endWord])"
   ]
  },
  {
   "cell_type": "code",
   "execution_count": 58,
   "metadata": {},
   "outputs": [],
   "source": [
    "dict = {1: 6}"
   ]
  },
  {
   "cell_type": "code",
   "execution_count": 61,
   "metadata": {},
   "outputs": [
    {
     "data": {
      "text/plain": [
       "6"
      ]
     },
     "execution_count": 61,
     "metadata": {},
     "output_type": "execute_result"
    }
   ],
   "source": [
    "dict.get(1, [])"
   ]
  },
  {
   "cell_type": "code",
   "execution_count": 65,
   "metadata": {},
   "outputs": [],
   "source": [
    "beginWord = 'a'\n",
    "queue = collections.deque([(beginWord, 1, 0)])"
   ]
  },
  {
   "cell_type": "code",
   "execution_count": 66,
   "metadata": {},
   "outputs": [],
   "source": [
    "word, steps, preword = queue.popleft()"
   ]
  },
  {
   "cell_type": "code",
   "execution_count": 70,
   "metadata": {},
   "outputs": [],
   "source": [
    "import collections\n",
    "class Solution:\n",
    "    #def countSubTrees(self, n: int, edges: List[List[int]], labels: str) -> List[int]:\n",
    "    def countSubTrees(self, n: int, edges, labels: str):\n",
    "        # check input \n",
    "        if not n or not edges:\n",
    "            return []\n",
    "        \n",
    "        # init \n",
    "        \n",
    "        res = [0] * n\n",
    "        tree = collections.defaultdict(list)\n",
    "        \n",
    "        # tree \n",
    "        for a, b in edges:\n",
    "            tree[a].append(b)\n",
    "            tree[b].append(a)\n",
    "        \n",
    "        \n",
    "        def dfs(child, parent):\n",
    "            counter = collections.Counter()\n",
    "            # remove the parent\n",
    "            for node in tree[child]:\n",
    "                # skip the parent \n",
    "                if node != parent:\n",
    "                    print('INFO: before recursion')\n",
    "                    print(counter)\n",
    "                    counter += dfs(node, child)\n",
    "                    print('INFO: after recursion')\n",
    "                    print(counter)\n",
    "            counter[labels[child]] += 1\n",
    "            res[child] = counter[labels[child]]\n",
    "            return counter\n",
    "        \n",
    "        # main function\n",
    "        dfs(0, None)\n",
    "        return res"
   ]
  },
  {
   "cell_type": "code",
   "execution_count": 71,
   "metadata": {},
   "outputs": [
    {
     "name": "stdout",
     "output_type": "stream",
     "text": [
      "INFO: before recursion\n",
      "Counter()\n",
      "INFO: before recursion\n",
      "Counter()\n",
      "INFO: after recursion\n",
      "Counter({'d': 1})\n",
      "INFO: before recursion\n",
      "Counter({'d': 1})\n",
      "INFO: after recursion\n",
      "Counter({'d': 1, 'c': 1})\n",
      "INFO: after recursion\n",
      "Counter({'d': 1, 'c': 1, 'b': 1})\n",
      "INFO: before recursion\n",
      "Counter({'d': 1, 'c': 1, 'b': 1})\n",
      "INFO: before recursion\n",
      "Counter()\n",
      "INFO: after recursion\n",
      "Counter({'e': 1})\n",
      "INFO: before recursion\n",
      "Counter({'e': 1})\n",
      "INFO: after recursion\n",
      "Counter({'e': 1, 'd': 1})\n",
      "INFO: after recursion\n",
      "Counter({'d': 2, 'c': 1, 'b': 1, 'e': 1, 'a': 1})\n"
     ]
    },
    {
     "data": {
      "text/plain": [
       "[2, 1, 1, 1, 1, 1, 1]"
      ]
     },
     "execution_count": 71,
     "metadata": {},
     "output_type": "execute_result"
    }
   ],
   "source": [
    "s = Solution()\n",
    "s.countSubTrees(7, [[0,1],[0,2],[1,4],[1,5],[2,3],[2,6]], \"abaedcd\")"
   ]
  },
  {
   "cell_type": "code",
   "execution_count": 95,
   "metadata": {},
   "outputs": [],
   "source": [
    "a = [2, 2, 1, 1,5]\n",
    "counter = collections.Counter(a)\n",
    "max_v = max(counter.values())\n",
    "mode_list = [ k for k, v in counter.items() if v == max_v]"
   ]
  },
  {
   "cell_type": "code",
   "execution_count": 96,
   "metadata": {},
   "outputs": [
    {
     "data": {
      "text/plain": [
       "[2, 1]"
      ]
     },
     "execution_count": 96,
     "metadata": {},
     "output_type": "execute_result"
    }
   ],
   "source": [
    "mode_list"
   ]
  },
  {
   "cell_type": "code",
   "execution_count": 79,
   "metadata": {},
   "outputs": [
    {
     "data": {
      "text/plain": [
       "int"
      ]
     },
     "execution_count": 79,
     "metadata": {},
     "output_type": "execute_result"
    }
   ],
   "source": [
    "type(counter.most_common(1)[0][0])"
   ]
  },
  {
   "cell_type": "code",
   "execution_count": 82,
   "metadata": {},
   "outputs": [
    {
     "data": {
      "text/plain": [
       "0"
      ]
     },
     "execution_count": 82,
     "metadata": {},
     "output_type": "execute_result"
    }
   ],
   "source": [
    "counter[0]"
   ]
  },
  {
   "cell_type": "code",
   "execution_count": 88,
   "metadata": {},
   "outputs": [
    {
     "data": {
      "text/plain": [
       "dict_keys([2, 1, 5])"
      ]
     },
     "execution_count": 88,
     "metadata": {},
     "output_type": "execute_result"
    }
   ],
   "source": [
    "counter.keys()"
   ]
  },
  {
   "cell_type": "code",
   "execution_count": 94,
   "metadata": {},
   "outputs": [
    {
     "data": {
      "text/plain": [
       "2"
      ]
     },
     "execution_count": 94,
     "metadata": {},
     "output_type": "execute_result"
    }
   ],
   "source": [
    "max(counter.values())"
   ]
  },
  {
   "cell_type": "code",
   "execution_count": 89,
   "metadata": {},
   "outputs": [
    {
     "ename": "TypeError",
     "evalue": "'builtin_function_or_method' object is not iterable",
     "output_type": "error",
     "traceback": [
      "\u001b[0;31m---------------------------------------------------------------------------\u001b[0m",
      "\u001b[0;31mTypeError\u001b[0m                                 Traceback (most recent call last)",
      "\u001b[0;32m<ipython-input-89-248fdb95b426>\u001b[0m in \u001b[0;36m<module>\u001b[0;34m\u001b[0m\n\u001b[0;32m----> 1\u001b[0;31m \u001b[0mmax\u001b[0m\u001b[0;34m(\u001b[0m\u001b[0mcounter\u001b[0m\u001b[0;34m.\u001b[0m\u001b[0mitems\u001b[0m\u001b[0;34m)\u001b[0m\u001b[0;34m\u001b[0m\u001b[0;34m\u001b[0m\u001b[0m\n\u001b[0m",
      "\u001b[0;31mTypeError\u001b[0m: 'builtin_function_or_method' object is not iterable"
     ]
    }
   ],
   "source": [
    "max(counter.items)"
   ]
  },
  {
   "cell_type": "code",
   "execution_count": null,
   "metadata": {},
   "outputs": [],
   "source": [
    "def "
   ]
  },
  {
   "cell_type": "code",
   "execution_count": 37,
   "metadata": {},
   "outputs": [],
   "source": [
    "def isPowerNumber(x):\n",
    "    # 0 or 1 \n",
    "    if x == 0 or x == 1:\n",
    "        return True\n",
    "    \n",
    "    # other numbers \n",
    "    for i in range(2, x):\n",
    "        power = 0\n",
    "        while i**power < x:\n",
    "            power += 1\n",
    "        if i**power == x:\n",
    "            return True\n",
    "    return False \n",
    "\n",
    "def countPowerNumbers(l, r):\n",
    "    # Write your code here\n",
    "    # check input \n",
    "    if not l or not r:\n",
    "        return 0\n",
    "    \n",
    "    # init \n",
    "    count = 0\n",
    "    for i in range(l, r + 1):\n",
    "        #print(i)\n",
    "        if i == 1 or i == 2:\n",
    "            count += 1\n",
    "            continue \n",
    "        for j in range(max(1, i//2)):\n",
    "                if isPowerNumber(j) and isPowerNumber(i - j):\n",
    "                    count += 1\n",
    "                    break \n",
    "    return count "
   ]
  },
  {
   "cell_type": "code",
   "execution_count": 29,
   "metadata": {},
   "outputs": [
    {
     "data": {
      "text/plain": [
       "1"
      ]
     },
     "execution_count": 29,
     "metadata": {},
     "output_type": "execute_result"
    }
   ],
   "source": [
    "max(1, 2//2)"
   ]
  },
  {
   "cell_type": "code",
   "execution_count": 38,
   "metadata": {},
   "outputs": [
    {
     "name": "stdout",
     "output_type": "stream",
     "text": [
      "25\n",
      "26\n",
      "27\n",
      "28\n",
      "29\n",
      "30\n"
     ]
    },
    {
     "data": {
      "text/plain": [
       "5"
      ]
     },
     "execution_count": 38,
     "metadata": {},
     "output_type": "execute_result"
    }
   ],
   "source": [
    "countPowerNumbers(25, 30)"
   ]
  },
  {
   "cell_type": "code",
   "execution_count": 13,
   "metadata": {},
   "outputs": [
    {
     "name": "stdout",
     "output_type": "stream",
     "text": [
      "2\n",
      "3\n"
     ]
    },
    {
     "data": {
      "text/plain": [
       "True"
      ]
     },
     "execution_count": 13,
     "metadata": {},
     "output_type": "execute_result"
    }
   ],
   "source": [
    "isPowerNumber(81)"
   ]
  },
  {
   "cell_type": "code",
   "execution_count": 39,
   "metadata": {},
   "outputs": [
    {
     "ename": "TypeError",
     "evalue": "compile() missing required argument 'filename' (pos 2)",
     "output_type": "error",
     "traceback": [
      "\u001b[0;31m-------------------------------------------------\u001b[0m",
      "\u001b[0;31mTypeError\u001b[0m       Traceback (most recent call last)",
      "\u001b[0;32m<ipython-input-39-1749a2203bc2>\u001b[0m in \u001b[0;36m<module>\u001b[0;34m\u001b[0m\n\u001b[1;32m      1\u001b[0m \u001b[0mregularExpression\u001b[0m \u001b[0;34m=\u001b[0m \u001b[0;34m'^\"(?:\\s*\\w+\\s*=\\s*[^;]*;)+\"$'\u001b[0m\u001b[0;34m\u001b[0m\u001b[0;34m\u001b[0m\u001b[0m\n\u001b[0;32m----> 2\u001b[0;31m \u001b[0mpattern\u001b[0m \u001b[0;34m=\u001b[0m \u001b[0mcompile\u001b[0m\u001b[0;34m(\u001b[0m\u001b[0mregularExpression\u001b[0m\u001b[0;34m)\u001b[0m\u001b[0;34m\u001b[0m\u001b[0;34m\u001b[0m\u001b[0m\n\u001b[0m",
      "\u001b[0;31mTypeError\u001b[0m: compile() missing required argument 'filename' (pos 2)"
     ]
    }
   ],
   "source": [
    "regularExpression = '^\"(?:\\s*\\w+\\s*=\\s*[^;]*;)+\"$'\n",
    "pattern = compile(regularExpression)"
   ]
  },
  {
   "cell_type": "code",
   "execution_count": 43,
   "metadata": {},
   "outputs": [],
   "source": [
    "import math\n",
    "#X, N = int(input()), int(input())\n",
    "def count(x, larger_than):\n",
    "    if x == 0:\n",
    "        return 1\n",
    "    return sum(count(x - i ** N, i) for i in range(larger_than + 1, math.ceil(math.pow(x + 1, 1 / N))))\n",
    "#print(count(X, 0))"
   ]
  },
  {
   "cell_type": "code",
   "execution_count": 44,
   "metadata": {},
   "outputs": [
    {
     "ename": "NameError",
     "evalue": "name 'N' is not defined",
     "output_type": "error",
     "traceback": [
      "\u001b[0;31m-------------------------------------------------\u001b[0m",
      "\u001b[0;31mNameError\u001b[0m       Traceback (most recent call last)",
      "\u001b[0;32m<ipython-input-44-435fba275c73>\u001b[0m in \u001b[0;36m<module>\u001b[0;34m\u001b[0m\n\u001b[0;32m----> 1\u001b[0;31m \u001b[0mcount\u001b[0m\u001b[0;34m(\u001b[0m\u001b[0;36m1\u001b[0m\u001b[0;34m,\u001b[0m \u001b[0;36m5\u001b[0m\u001b[0;34m)\u001b[0m\u001b[0;34m\u001b[0m\u001b[0;34m\u001b[0m\u001b[0m\n\u001b[0m",
      "\u001b[0;32m<ipython-input-43-0fa2033c59bc>\u001b[0m in \u001b[0;36mcount\u001b[0;34m(x, larger_than)\u001b[0m\n\u001b[1;32m      4\u001b[0m     \u001b[0;32mif\u001b[0m \u001b[0mx\u001b[0m \u001b[0;34m==\u001b[0m \u001b[0;36m0\u001b[0m\u001b[0;34m:\u001b[0m\u001b[0;34m\u001b[0m\u001b[0;34m\u001b[0m\u001b[0m\n\u001b[1;32m      5\u001b[0m         \u001b[0;32mreturn\u001b[0m \u001b[0;36m1\u001b[0m\u001b[0;34m\u001b[0m\u001b[0;34m\u001b[0m\u001b[0m\n\u001b[0;32m----> 6\u001b[0;31m     \u001b[0;32mreturn\u001b[0m \u001b[0msum\u001b[0m\u001b[0;34m(\u001b[0m\u001b[0mcount\u001b[0m\u001b[0;34m(\u001b[0m\u001b[0mx\u001b[0m \u001b[0;34m-\u001b[0m \u001b[0mi\u001b[0m \u001b[0;34m**\u001b[0m \u001b[0mN\u001b[0m\u001b[0;34m,\u001b[0m \u001b[0mi\u001b[0m\u001b[0;34m)\u001b[0m \u001b[0;32mfor\u001b[0m \u001b[0mi\u001b[0m \u001b[0;32min\u001b[0m \u001b[0mrange\u001b[0m\u001b[0;34m(\u001b[0m\u001b[0mlarger_than\u001b[0m \u001b[0;34m+\u001b[0m \u001b[0;36m1\u001b[0m\u001b[0;34m,\u001b[0m \u001b[0mmath\u001b[0m\u001b[0;34m.\u001b[0m\u001b[0mceil\u001b[0m\u001b[0;34m(\u001b[0m\u001b[0mmath\u001b[0m\u001b[0;34m.\u001b[0m\u001b[0mpow\u001b[0m\u001b[0;34m(\u001b[0m\u001b[0mx\u001b[0m \u001b[0;34m+\u001b[0m \u001b[0;36m1\u001b[0m\u001b[0;34m,\u001b[0m \u001b[0;36m1\u001b[0m \u001b[0;34m/\u001b[0m \u001b[0mN\u001b[0m\u001b[0;34m)\u001b[0m\u001b[0;34m)\u001b[0m\u001b[0;34m)\u001b[0m\u001b[0;34m)\u001b[0m\u001b[0;34m\u001b[0m\u001b[0;34m\u001b[0m\u001b[0m\n\u001b[0m\u001b[1;32m      7\u001b[0m \u001b[0;31m#print(count(X, 0))\u001b[0m\u001b[0;34m\u001b[0m\u001b[0;34m\u001b[0m\u001b[0;34m\u001b[0m\u001b[0m\n",
      "\u001b[0;31mNameError\u001b[0m: name 'N' is not defined"
     ]
    }
   ],
   "source": [
    "count(1, 5)"
   ]
  },
  {
   "cell_type": "code",
   "execution_count": null,
   "metadata": {},
   "outputs": [],
   "source": []
  }
 ],
 "metadata": {
  "kernelspec": {
   "display_name": "Python 3",
   "language": "python",
   "name": "python3"
  },
  "language_info": {
   "codemirror_mode": {
    "name": "ipython",
    "version": 3
   },
   "file_extension": ".py",
   "mimetype": "text/x-python",
   "name": "python",
   "nbconvert_exporter": "python",
   "pygments_lexer": "ipython3",
   "version": "3.8.5"
  }
 },
 "nbformat": 4,
 "nbformat_minor": 4
}
