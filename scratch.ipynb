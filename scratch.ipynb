{
 "cells": [
  {
   "cell_type": "code",
   "execution_count": 1,
   "metadata": {},
   "outputs": [],
   "source": [
    "import numpy as np\n",
    "import pandas as pd"
   ]
  },
  {
   "cell_type": "code",
   "execution_count": 2,
   "metadata": {},
   "outputs": [
    {
     "data": {
      "text/plain": [
       "1"
      ]
     },
     "execution_count": 2,
     "metadata": {},
     "output_type": "execute_result"
    }
   ],
   "source": [
    "5 % 2 "
   ]
  },
  {
   "cell_type": "code",
   "execution_count": 3,
   "metadata": {},
   "outputs": [
    {
     "data": {
      "text/plain": [
       "0"
      ]
     },
     "execution_count": 3,
     "metadata": {},
     "output_type": "execute_result"
    }
   ],
   "source": [
    "6 % 2"
   ]
  },
  {
   "cell_type": "code",
   "execution_count": 5,
   "metadata": {},
   "outputs": [
    {
     "data": {
      "text/plain": [
       "[-4, 1, 3, 5]"
      ]
     },
     "execution_count": 5,
     "metadata": {},
     "output_type": "execute_result"
    }
   ],
   "source": [
    "tmp_list = [1, 5 ,3, -4]\n",
    "sorted(tmp_list)"
   ]
  },
  {
   "cell_type": "code",
   "execution_count": 6,
   "metadata": {},
   "outputs": [
    {
     "data": {
      "text/plain": [
       "[5, 3]"
      ]
     },
     "execution_count": 6,
     "metadata": {},
     "output_type": "execute_result"
    }
   ],
   "source": [
    "tmp_list[1:3]"
   ]
  },
  {
   "cell_type": "code",
   "execution_count": 5,
   "metadata": {},
   "outputs": [],
   "source": [
    "import heapq\n",
    "\n",
    "def medianSlidingWindow(nums, k):\n",
    "\tsmall, large = [], []\n",
    "\tfor i, x in enumerate(nums[:k]): \n",
    "\t\theapq.heappush(small, (-x,i))\n",
    "\tfor _ in range(k-(k>>1)): \n",
    "\t\tmove(small, large)\n",
    "\tans = [get_med(small, large, k)]\n",
    "\tfor i, x in enumerate(nums[k:]):\n",
    "\t\tif x >= large[0][0]:\n",
    "\t\t\theapq.heappush(large, (x, i+k))\n",
    "\t\t\tif nums[i] <= large[0][0]: \n",
    "\t\t\t\tmove(large, small)\n",
    "\t\telse:\n",
    "\t\t\theapq.heappush(small, (-x, i+k))\n",
    "\t\t\tif nums[i] >= large[0][0]: \n",
    "\t\t\t\tmove(small, large)\n",
    "\t\twhile small and small[0][1] <= i: \n",
    "\t\t\theapq.heappop(small)\n",
    "\t\twhile large and large[0][1] <= i: \n",
    "\t\t\theapq.heappop(large)\n",
    "\t\tans.append(get_med(small, large, k))\n",
    "\treturn ans\n",
    "\n",
    "def move(h1, h2):\n",
    "\tx, i = heapq.heappop(h1)\n",
    "\theapq.heappush(h2, (-x, i))\n",
    "\t\n",
    "def get_med(h1, h2, k):\n",
    "\treturn h2[0][0] * 1. if k & 1 else (h2[0][0]-h1[0][0]) / 2."
   ]
  },
  {
   "cell_type": "code",
   "execution_count": 8,
   "metadata": {},
   "outputs": [
    {
     "data": {
      "text/plain": [
       "[3.0, 3.0, 3.0, 4.0, 5.0]"
      ]
     },
     "execution_count": 8,
     "metadata": {},
     "output_type": "execute_result"
    }
   ],
   "source": [
    "medianSlidingWindow([5,1,3,4,2,5,6], 3)"
   ]
  },
  {
   "cell_type": "code",
   "execution_count": 10,
   "metadata": {},
   "outputs": [],
   "source": [
    "small = []"
   ]
  },
  {
   "cell_type": "code",
   "execution_count": 11,
   "metadata": {},
   "outputs": [],
   "source": [
    "heapq.heappush(small, (-5,1))"
   ]
  },
  {
   "cell_type": "code",
   "execution_count": 12,
   "metadata": {},
   "outputs": [
    {
     "data": {
      "text/plain": [
       "[(-5, 1)]"
      ]
     },
     "execution_count": 12,
     "metadata": {},
     "output_type": "execute_result"
    }
   ],
   "source": [
    "small\n"
   ]
  },
  {
   "cell_type": "code",
   "execution_count": 17,
   "metadata": {},
   "outputs": [],
   "source": [
    "heapq.heappush(small, (-5,1, 9))\n",
    "k = 3"
   ]
  },
  {
   "cell_type": "code",
   "execution_count": 3,
   "metadata": {},
   "outputs": [],
   "source": [
    "nums = [5,1,3,4,2,5,6]\n",
    "k = 3"
   ]
  },
  {
   "cell_type": "code",
   "execution_count": 9,
   "metadata": {},
   "outputs": [
    {
     "name": "stdout",
     "output_type": "stream",
     "text": [
      "(0, 5)\n",
      "(1, 1)\n",
      "(2, 3)\n"
     ]
    }
   ],
   "source": [
    "small = []\n",
    "for i, x in enumerate(nums[:k]): \n",
    "#heapq.heappush(small, (-x,i))\n",
    "    print((i, x))\n",
    "    heapq.heappush(small, (x, i ))"
   ]
  },
  {
   "cell_type": "code",
   "execution_count": 10,
   "metadata": {},
   "outputs": [
    {
     "data": {
      "text/plain": [
       "[(1, 1), (5, 0), (3, 2)]"
      ]
     },
     "execution_count": 10,
     "metadata": {},
     "output_type": "execute_result"
    }
   ],
   "source": [
    "small"
   ]
  },
  {
   "cell_type": "code",
   "execution_count": 12,
   "metadata": {},
   "outputs": [
    {
     "name": "stdout",
     "output_type": "stream",
     "text": [
      "(0, 5)\n",
      "(1, 1)\n",
      "(2, 3)\n",
      "(3, 4)\n",
      "(4, 2)\n",
      "(5, 5)\n",
      "(6, 6)\n"
     ]
    }
   ],
   "source": [
    "small = []\n",
    "for i, x in enumerate(nums): \n",
    "#heapq.heappush(small, (-x,i))\n",
    "    print((i, x))\n",
    "    heapq.heappush(small, x)"
   ]
  },
  {
   "cell_type": "code",
   "execution_count": 14,
   "metadata": {},
   "outputs": [],
   "source": [
    "heapq.heapify(nums)"
   ]
  },
  {
   "cell_type": "code",
   "execution_count": 15,
   "metadata": {},
   "outputs": [
    {
     "data": {
      "text/plain": [
       "[1, 2, 3, 4, 5, 5, 6]"
      ]
     },
     "execution_count": 15,
     "metadata": {},
     "output_type": "execute_result"
    }
   ],
   "source": [
    "nums"
   ]
  },
  {
   "cell_type": "code",
   "execution_count": 13,
   "metadata": {},
   "outputs": [
    {
     "data": {
      "text/plain": [
       "[1, 2, 3, 5, 4, 5, 6]"
      ]
     },
     "execution_count": 13,
     "metadata": {},
     "output_type": "execute_result"
    }
   ],
   "source": [
    "small"
   ]
  },
  {
   "cell_type": "code",
   "execution_count": 44,
   "metadata": {},
   "outputs": [],
   "source": [
    "heapq.heapify(small)"
   ]
  },
  {
   "cell_type": "code",
   "execution_count": 50,
   "metadata": {},
   "outputs": [],
   "source": [
    "small = [1, 4, 6, 2]"
   ]
  },
  {
   "cell_type": "code",
   "execution_count": 54,
   "metadata": {},
   "outputs": [
    {
     "data": {
      "text/plain": [
       "6"
      ]
     },
     "execution_count": 54,
     "metadata": {},
     "output_type": "execute_result"
    }
   ],
   "source": [
    "heapq.heappop(small)"
   ]
  },
  {
   "cell_type": "code",
   "execution_count": 23,
   "metadata": {},
   "outputs": [],
   "source": [
    "heapq.heapify(nums)"
   ]
  },
  {
   "cell_type": "code",
   "execution_count": 25,
   "metadata": {},
   "outputs": [
    {
     "data": {
      "text/plain": [
       "1"
      ]
     },
     "execution_count": 25,
     "metadata": {},
     "output_type": "execute_result"
    }
   ],
   "source": [
    "3 >> 1"
   ]
  },
  {
   "cell_type": "code",
   "execution_count": 26,
   "metadata": {},
   "outputs": [
    {
     "data": {
      "text/plain": [
       "2"
      ]
     },
     "execution_count": 26,
     "metadata": {},
     "output_type": "execute_result"
    }
   ],
   "source": [
    "5>>1"
   ]
  },
  {
   "cell_type": "code",
   "execution_count": 28,
   "metadata": {},
   "outputs": [
    {
     "data": {
      "text/plain": [
       "3"
      ]
     },
     "execution_count": 28,
     "metadata": {},
     "output_type": "execute_result"
    }
   ],
   "source": [
    "24 >> 3"
   ]
  },
  {
   "cell_type": "code",
   "execution_count": 29,
   "metadata": {},
   "outputs": [
    {
     "data": {
      "text/plain": [
       "6"
      ]
     },
     "execution_count": 29,
     "metadata": {},
     "output_type": "execute_result"
    }
   ],
   "source": [
    "48 >> 3"
   ]
  },
  {
   "cell_type": "code",
   "execution_count": 31,
   "metadata": {},
   "outputs": [
    {
     "data": {
      "text/plain": [
       "6"
      ]
     },
     "execution_count": 31,
     "metadata": {},
     "output_type": "execute_result"
    }
   ],
   "source": [
    "55 >> 3"
   ]
  },
  {
   "cell_type": "code",
   "execution_count": 19,
   "metadata": {},
   "outputs": [],
   "source": [
    "i = 129\n",
    "[ int(num) for num in str(i)]\n",
    "int_vec = [ int(num) for num in str(i)]\n",
    "r = sum(int_vec)/len(int_vec)\n",
    "r = sum(int_vec)//len(int_vec)\n",
    "test_vec = []\n",
    "for i in range(r):\n",
    "    test_vec += int_vec"
   ]
  },
  {
   "cell_type": "code",
   "execution_count": 20,
   "metadata": {},
   "outputs": [
    {
     "data": {
      "text/plain": [
       "[1, 2, 9, 1, 2, 9, 1, 2, 9, 1, 2, 9]"
      ]
     },
     "execution_count": 20,
     "metadata": {},
     "output_type": "execute_result"
    }
   ],
   "source": [
    "test_vec"
   ]
  },
  {
   "cell_type": "code",
   "execution_count": 34,
   "metadata": {},
   "outputs": [],
   "source": [
    "def scrollingNum(a, b):\n",
    "    res = []\n",
    "    for i in range(a, b):\n",
    "        int_vec = [ int(num) for num in str(i)]\n",
    "        # filter 0 and repetative \n",
    "        if 0 in int_vec or len(int_vec) != len(set(int_vec)):\n",
    "            continue\n",
    "        if not sum(int_vec) % len(int_vec) == 0:\n",
    "            continue\n",
    "        else:\n",
    "            r = sum(int_vec)//len(int_vec)\n",
    "            test_vec = []\n",
    "            for _ in range(r):\n",
    "                test_vec += int_vec\n",
    "            visited = []\n",
    "            pt = 0\n",
    "            idx = 0\n",
    "            for _ in range(len(int_vec)):\n",
    "                tmp_v = test_vec[pt]\n",
    "                if not tmp_v in visited:\n",
    "                    visited.append(tmp_v)\n",
    "                    pt += tmp_v\n",
    "                else:\n",
    "                    break\n",
    "            if len(visited) == len(int_vec):\n",
    "                res.append(i)\n",
    "    return res\n",
    "                           "
   ]
  },
  {
   "cell_type": "code",
   "execution_count": 33,
   "metadata": {},
   "outputs": [
    {
     "name": "stdout",
     "output_type": "stream",
     "text": [
      "No\n"
     ]
    },
    {
     "data": {
      "text/plain": [
       "[1, 2]"
      ]
     },
     "execution_count": 33,
     "metadata": {},
     "output_type": "execute_result"
    }
   ],
   "source": [
    "int_vec = [1, 2, 3]\n",
    "visited = []\n",
    "pt = 0\n",
    "idx = 0\n",
    "for _ in range(len(int_vec)):\n",
    "    tmp_v = test_vec[pt]\n",
    "    if not tmp_v in visited:\n",
    "        visited.append(tmp_v)\n",
    "        pt += tmp_v\n",
    "    else:\n",
    "        print(\"No\")\n",
    "        break\n",
    "visited"
   ]
  },
  {
   "cell_type": "code",
   "execution_count": null,
   "metadata": {},
   "outputs": [],
   "source": []
  },
  {
   "cell_type": "code",
   "execution_count": 35,
   "metadata": {},
   "outputs": [
    {
     "data": {
      "text/plain": [
       "[147, 174, 258, 285, 417, 471]"
      ]
     },
     "execution_count": 35,
     "metadata": {},
     "output_type": "execute_result"
    }
   ],
   "source": [
    "scrollingNum(100, 500)"
   ]
  },
  {
   "cell_type": "code",
   "execution_count": 7,
   "metadata": {},
   "outputs": [],
   "source": [
    "a = list(range(10))"
   ]
  },
  {
   "cell_type": "code",
   "execution_count": 4,
   "metadata": {},
   "outputs": [
    {
     "data": {
      "text/plain": [
       "[]"
      ]
     },
     "execution_count": 4,
     "metadata": {},
     "output_type": "execute_result"
    }
   ],
   "source": [
    "a[-1:0]"
   ]
  },
  {
   "cell_type": "code",
   "execution_count": 13,
   "metadata": {},
   "outputs": [],
   "source": [
    "a.reverse()"
   ]
  },
  {
   "cell_type": "code",
   "execution_count": 9,
   "metadata": {},
   "outputs": [
    {
     "data": {
      "text/plain": [
       "[9, 8, 7, 6, 5, 4, 3, 2, 1, 0]"
      ]
     },
     "execution_count": 9,
     "metadata": {},
     "output_type": "execute_result"
    }
   ],
   "source": [
    "a"
   ]
  },
  {
   "cell_type": "code",
   "execution_count": 10,
   "metadata": {},
   "outputs": [
    {
     "data": {
      "text/plain": [
       "[0, 1, 2, 3, 4, 5, 6, 7, 8, 9]"
      ]
     },
     "execution_count": 10,
     "metadata": {},
     "output_type": "execute_result"
    }
   ],
   "source": [
    "a[::-1]"
   ]
  },
  {
   "cell_type": "code",
   "execution_count": 11,
   "metadata": {},
   "outputs": [
    {
     "data": {
      "text/plain": [
       "[0, 1, 2, 3, 4, 5, 6]"
      ]
     },
     "execution_count": 11,
     "metadata": {},
     "output_type": "execute_result"
    }
   ],
   "source": [
    "a[:2:-1]"
   ]
  },
  {
   "cell_type": "code",
   "execution_count": 15,
   "metadata": {},
   "outputs": [
    {
     "data": {
      "text/plain": [
       "[0, 1, 2, 3]"
      ]
     },
     "execution_count": 15,
     "metadata": {},
     "output_type": "execute_result"
    }
   ],
   "source": [
    "a[0:4]"
   ]
  },
  {
   "cell_type": "code",
   "execution_count": 19,
   "metadata": {},
   "outputs": [
    {
     "data": {
      "text/plain": [
       "[3, 5]"
      ]
     },
     "execution_count": 19,
     "metadata": {},
     "output_type": "execute_result"
    }
   ],
   "source": [
    "a[3:6:2]"
   ]
  },
  {
   "cell_type": "code",
   "execution_count": 20,
   "metadata": {},
   "outputs": [
    {
     "data": {
      "text/plain": [
       "[3, 5, 7, 9]"
      ]
     },
     "execution_count": 20,
     "metadata": {},
     "output_type": "execute_result"
    }
   ],
   "source": [
    "a[3::2]"
   ]
  },
  {
   "cell_type": "code",
   "execution_count": 23,
   "metadata": {},
   "outputs": [],
   "source": [
    "# merge sort \n",
    "def mergeSort(nums):\n",
    "\tif len(nums) == 1:\n",
    "\t\treturn nums\n",
    "\tif len(nums) == 2:\n",
    "\t\tif nums[0] > nums[1]:\n",
    "\t\t\treturn [nums[1], nums[0]]\n",
    "\t\telse:\n",
    "\t\t\treturn [nums[0], nums[1]]\n",
    "\tmid = len(nums) // 2\n",
    "\t# else \n",
    "\tleft_sorted = mergeSort(nums[:mid])\n",
    "\tright_sorted = mergeSort(nums[mid:])\n",
    "\t# merge \n",
    "\ti = j = k = 0\n",
    "\tarr = [0] * (len(left_sorted) + len(right_sorted))\n",
    "\twhile i < len(left_sorted) and j < len(right_sorted):\n",
    "\t\tif left_sorted[i] < right_sorted[j]:\n",
    "\t\t\tarr[k] = left_sorted[i]\n",
    "\t\t\ti += 1\n",
    "\t\telse:\n",
    "\t\t\tarr[k] = right_sorted[j]\n",
    "\t\t\tj += 1\n",
    "\t\tk += 1\n",
    "\n",
    "\t# left element \n",
    "\twhile i < len(left_sorted):\n",
    "\t\tarr[k] = left_sorted[i]\n",
    "\t\ti += 1\n",
    "\t\tk += 1 \n",
    "\n",
    "\twhile j < len(right_sorted):\n",
    "\t\tprint(j)\n",
    "\t\tarr[k] = right_sorted[j]\n",
    "\t\tj += 1\n",
    "\t\tk += 1 \n",
    "\n",
    "\treturn arr"
   ]
  },
  {
   "cell_type": "code",
   "execution_count": 24,
   "metadata": {},
   "outputs": [
    {
     "name": "stdout",
     "output_type": "stream",
     "text": [
      "2\n"
     ]
    },
    {
     "data": {
      "text/plain": [
       "[1, 4, 9, 46, 96]"
      ]
     },
     "execution_count": 24,
     "metadata": {},
     "output_type": "execute_result"
    }
   ],
   "source": [
    "mergeSort([4,46,96, 9,1])"
   ]
  },
  {
   "cell_type": "code",
   "execution_count": 31,
   "metadata": {},
   "outputs": [],
   "source": [
    "def quickSort(arr):\n",
    "    l = len(arr)\n",
    "    \n",
    "    # Base case\n",
    "    if l < 2:\n",
    "        return arr\n",
    "    \n",
    "    cur_pos = 0 #Position of the partitioning element\n",
    "\n",
    "    for i in range(1, l): #Partitioning loop\n",
    "        if arr[i] <= arr[0]:\n",
    "            cur_pos += 1\n",
    "            arr[i],arr[cur_pos] = arr[cur_pos], arr[i]\n",
    "\n",
    "     #Brings pivot to it's appropriate position         \n",
    "    arr[0], arr[cur_pos] = arr[cur_pos], arr[0] \n",
    "  \n",
    "    left = quickSort(arr[:cur_pos]) #Sorts the elements to the left of pivot\n",
    "    right = quickSort(arr[cur_pos + 1: l]) #sorts the elements to the right of pivot\n",
    "\n",
    "    arr = left + [arr[cur_pos]] + right #Merging everything together\n",
    "    \n",
    "    return arr"
   ]
  },
  {
   "cell_type": "code",
   "execution_count": 32,
   "metadata": {},
   "outputs": [
    {
     "data": {
      "text/plain": [
       "[1, 4, 9, 46, 96]"
      ]
     },
     "execution_count": 32,
     "metadata": {},
     "output_type": "execute_result"
    }
   ],
   "source": [
    "quickSort([4,46,96, 9,1])"
   ]
  },
  {
   "cell_type": "code",
   "execution_count": 33,
   "metadata": {},
   "outputs": [
    {
     "data": {
      "text/plain": [
       "[1, 4, 6, 9, 46, 96]"
      ]
     },
     "execution_count": 33,
     "metadata": {},
     "output_type": "execute_result"
    }
   ],
   "source": [
    "quickSort([6, 4,46,96, 9,1])"
   ]
  },
  {
   "cell_type": "code",
   "execution_count": null,
   "metadata": {},
   "outputs": [],
   "source": [
    "mport collections\n",
    "# Definition for a binary tree node.\n",
    "class TreeNode:\n",
    "    def __init__(self, x):\n",
    "        self.val = x\n",
    "        self.left = None\n",
    "        self.right = None\n",
    "class Solution():\n",
    "    def distanceK(self, root, target, K):\n",
    "        # check the input\n",
    "        if not root or not target or not K:\n",
    "            return []\n",
    "        \n",
    "        # init\n",
    "        graph = collections.defaultdict(list)\n",
    "        \n",
    "        \n",
    "        # dfs function \n",
    "        def conn(parent, child):\n",
    "            # in-order travasel\n",
    "            if parent and child:\n",
    "                graph[parent.val].append(child.val)\n",
    "                graph[child.val].append(parent.val)  \n",
    "            \n",
    "            # child trees\n",
    "            if child.left: conn(child, child.left)\n",
    "            if child.right: conn(child, child.right)\n",
    "                \n",
    "        # run the dfs and build the graph\n",
    "        conn(None, root)\n",
    "        \n",
    "        # bfs for k steps\n",
    "        visited = set()\n",
    "        queue = collections.deque()\n",
    "        tmp_queue = collections.deque()\n",
    "        res = []\n",
    "        \n",
    "        # main loop\n",
    "        queue.append(target.val) \n",
    "        visited.add(target.val)\n",
    "        \n",
    "        for i in range(K):\n",
    "            queue = tmp_queue\n",
    "            tmp_queue = collections.deque()\n",
    "            while queue:\n",
    "                cur_node = queue.popleft()\n",
    "                print(cur_node)\n",
    "                for neighbor in graph[cur_node]:\n",
    "                    if neighbor not in visited:\n",
    "                        print(neighbor)\n",
    "                        tmp_queue.append(neighbor)\n",
    "                        visited.add(neighbor)\n",
    "                    \n",
    "        return list(tmp_queue)"
   ]
  },
  {
   "cell_type": "code",
   "execution_count": 1,
   "metadata": {},
   "outputs": [],
   "source": [
    "class TreeNode:\n",
    "    def __init__(self, x):\n",
    "        self.val = x\n",
    "        self.left = None\n",
    "        self.right = None"
   ]
  },
  {
   "cell_type": "code",
   "execution_count": 2,
   "metadata": {},
   "outputs": [],
   "source": [
    "root = TreeNode(1)\n",
    "root.left = TreeNode(2)\n",
    "root.right = TreeNode(3)"
   ]
  },
  {
   "cell_type": "code",
   "execution_count": 8,
   "metadata": {},
   "outputs": [],
   "source": [
    "import collections"
   ]
  },
  {
   "cell_type": "code",
   "execution_count": 16,
   "metadata": {},
   "outputs": [],
   "source": [
    "distance = collections.defaultdict(int)"
   ]
  },
  {
   "cell_type": "code",
   "execution_count": 17,
   "metadata": {},
   "outputs": [],
   "source": [
    "distance[root] = 0"
   ]
  },
  {
   "cell_type": "code",
   "execution_count": 23,
   "metadata": {},
   "outputs": [],
   "source": [
    "class Solution:\n",
    "    def findBottomLeftValue(self, root: TreeNode) -> int:\n",
    "        # check input\n",
    "        if not root:\n",
    "            return []\n",
    "        \n",
    "        # init \n",
    "        queue = collections.deque([root])\n",
    "        res = [[root.val]]\n",
    "        level = [root.val]\n",
    "        distance = collections.defaultdict(int)\n",
    "        distance[root] = 0\n",
    "        \n",
    "        # main loop\n",
    "        while queue:\n",
    "            size = len(level)\n",
    "            level = []\n",
    "            for i in range(size):\n",
    "                cur_node = queue.popleft()\n",
    "                if cur_node.left:\n",
    "                    if cur_node.left not in distance:\n",
    "                        distance[cur_node.left] = distance[cur_node] + 1\n",
    "                        level.append(cur_node.left.val)\n",
    "                        queue.append(cur_node.left)\n",
    "                if cur_node.right:\n",
    "                    if cur_node.right not in distance:\n",
    "                        distance[cur_node.right] = distance[cur_node] + 1\n",
    "                        level.append(cur_node.right.val)\n",
    "                        queue.append(cur_node.right)\n",
    "            if len(level) > 0:\n",
    "                res.append(level)\n",
    "        # output (the last result but the first item of that list)\n",
    "        output = res[-1][0]\n",
    "        return output"
   ]
  },
  {
   "cell_type": "code",
   "execution_count": 24,
   "metadata": {},
   "outputs": [
    {
     "data": {
      "text/plain": [
       "2"
      ]
     },
     "execution_count": 24,
     "metadata": {},
     "output_type": "execute_result"
    }
   ],
   "source": [
    "s = Solution()\n",
    "s.findBottomLeftValue(root = root)"
   ]
  },
  {
   "cell_type": "code",
   "execution_count": null,
   "metadata": {},
   "outputs": [],
   "source": []
  }
 ],
 "metadata": {
  "kernelspec": {
   "display_name": "Python 3",
   "language": "python",
   "name": "python3"
  },
  "language_info": {
   "codemirror_mode": {
    "name": "ipython",
    "version": 3
   },
   "file_extension": ".py",
   "mimetype": "text/x-python",
   "name": "python",
   "nbconvert_exporter": "python",
   "pygments_lexer": "ipython3",
   "version": "3.6.10"
  }
 },
 "nbformat": 4,
 "nbformat_minor": 4
}
