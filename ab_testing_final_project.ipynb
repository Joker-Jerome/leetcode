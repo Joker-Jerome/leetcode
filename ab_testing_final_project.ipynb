{
 "cells": [
  {
   "cell_type": "code",
   "execution_count": 2,
   "metadata": {},
   "outputs": [],
   "source": [
    "import numpy as np\n",
    "import math"
   ]
  },
  {
   "cell_type": "code",
   "execution_count": null,
   "metadata": {},
   "outputs": [],
   "source": [
    "#  business problem and metrics "
   ]
  },
  {
   "cell_type": "markdown",
   "metadata": {},
   "source": [
    "Number of cookies: That is, number of unique cookies to view the course overview page. (𝑑𝑚𝑖𝑛=3000)\n",
    "Number of user-ids: That is, number of users who enroll in the free trial. (𝑑𝑚𝑖𝑛=50)\n",
    "Number of clicks: That is, number of unique cookies to click the \"Start free trial\" button (which happens before the free trial screener is trigger). (𝑑𝑚𝑖𝑛=240)\n",
    "Click-through-probability: That is, number of unique cookies to click the \"Start free trial\" button divided by number of unique cookies to view the course overview page. (𝑑𝑚𝑖𝑛=0.01)\n",
    "Gross conversion: That is, number of user-ids to complete checkout and enroll in the free trial divided by number of unique cookies to click the \"Start free trial\" button. (𝑑𝑚𝑖𝑛=0.01)\n",
    "Retention: That is, number of user-ids to remain enrolled past the 14-day boundary (and thus make at least one payment) divided by number of user-ids to complete checkout. (𝑑𝑚𝑖𝑛=0.01)\n",
    "Net conversion: That is, number of user-ids to remain enrolled past the 14-day boundary (and thus make at least one payment) divided by the number of unique cookies to click the \"Start free trial\" button. (𝑑𝑚𝑖𝑛=0.0075)"
   ]
  },
  {
   "cell_type": "code",
   "execution_count": null,
   "metadata": {},
   "outputs": [],
   "source": [
    "# invariant metrics \n",
    "    # number of drivers \n",
    "    # distance between users and merchants\n",
    "    \n",
    "# evaluation metrics"
   ]
  },
  {
   "cell_type": "code",
   "execution_count": 4,
   "metadata": {},
   "outputs": [],
   "source": [
    "N_cont = 10072  # Control samples (pageviews)\n",
    "N_exp = 9886  # Test samples (pageviews)\n",
    "X_cont = 974  # Control clicks\n",
    "X_exp = 1242  # Exp. clicks\n",
    "\n",
    "p_pool = (X_cont + X_exp)/(N_cont+N_exp)\n",
    "se_pool = np.sqrt(p_pool*(1-p_pool)*(1/N_cont + 1/N_exp))\n",
    "\n",
    "p_cont = X_cont/N_cont\n",
    "p_exp = X_exp/N_exp\n",
    "d_hat = p_exp - p_cont\n",
    "# d_hat = 0.02892847\n",
    "\n",
    "m = 1.96*se_pool\n",
    "cf_min = d_hat-m\n",
    "cf_max = d_hat+m\n",
    "d_min = 0.02 # Minimum practical significance value for difference\n",
    "# cf_min = 0.0202105\n",
    "# cf_max = 0.03764645"
   ]
  },
  {
   "cell_type": "code",
   "execution_count": 5,
   "metadata": {},
   "outputs": [
    {
     "data": {
      "text/plain": [
       "[0.020210500108079642, 0.03764644797215575]"
      ]
     },
     "execution_count": 5,
     "metadata": {},
     "output_type": "execute_result"
    }
   ],
   "source": [
    "[cf_min, cf_max]"
   ]
  },
  {
   "cell_type": "code",
   "execution_count": null,
   "metadata": {},
   "outputs": [],
   "source": []
  }
 ],
 "metadata": {
  "kernelspec": {
   "display_name": "Python 3",
   "language": "python",
   "name": "python3"
  },
  "language_info": {
   "codemirror_mode": {
    "name": "ipython",
    "version": 3
   },
   "file_extension": ".py",
   "mimetype": "text/x-python",
   "name": "python",
   "nbconvert_exporter": "python",
   "pygments_lexer": "ipython3",
   "version": "3.8.5"
  }
 },
 "nbformat": 4,
 "nbformat_minor": 4
}
