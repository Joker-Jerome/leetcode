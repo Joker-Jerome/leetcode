{
 "cells": [
  {
   "cell_type": "code",
   "execution_count": 2,
   "metadata": {},
   "outputs": [
    {
     "name": "stdout",
     "output_type": "stream",
     "text": [
      "[1]\n",
      "[1, 2]\n",
      "[1, 2, 2]\n",
      "[2]\n",
      "[2, 2]\n",
      "[[], [1], [1, 2], [1, 2, 2], [2], [2, 2]]\n"
     ]
    }
   ],
   "source": [
    "import copy\n",
    "\n",
    "class Solution(object):\n",
    "    def subsetsWithDup(self, nums):\n",
    "        \"\"\"\n",
    "        :type nums: List[int]\n",
    "        :rtype: List[List[int]]\n",
    "        \"\"\"\n",
    "        res = [[]]\n",
    "        curr_set = []\n",
    "        nums = sorted(nums)\n",
    "        self.get_subsets(res, nums, curr_set, 0)\n",
    "        return(res)\n",
    "    \n",
    "    def get_subsets(self, res, nums, curr_set, pos):\n",
    "        # recursive\n",
    "        if pos < len(nums):\n",
    "            for i in range(pos, len(nums)):\n",
    "                if i != pos and nums[i] == nums[i - 1]:\n",
    "                    continue\n",
    "                curr_set.append(nums[i])\n",
    "                print(curr_set)\n",
    "                res.append(copy.deepcopy(curr_set))\n",
    "                self.get_subsets(res, nums, curr_set, i + 1)\n",
    "                curr_set.pop(len(curr_set) - 1)\n",
    "            \n",
    "if __name__ == \"__main__\":\n",
    "    s = Solution()\n",
    "    print(s.subsetsWithDup([1,2,2]))"
   ]
  },
  {
   "cell_type": "code",
   "execution_count": 3,
   "metadata": {},
   "outputs": [
    {
     "name": "stdout",
     "output_type": "stream",
     "text": [
      "[1]\n",
      "[1, 2]\n",
      "[1, 2, 3]\n",
      "[1, 3]\n",
      "[2]\n",
      "[2, 3]\n",
      "[3]\n",
      "[[], [1], [1, 2], [1, 2, 3], [1, 3], [2], [2, 3], [3]]\n"
     ]
    }
   ],
   "source": [
    "import copy\n",
    "\n",
    "class Solution(object):\n",
    "    def subsetsWithDup(self, nums):\n",
    "        \"\"\"\n",
    "        :type nums: List[int]\n",
    "        :rtype: List[List[int]]\n",
    "        \"\"\"\n",
    "        res = [[]]\n",
    "        curr_set = []\n",
    "        nums = sorted(nums)\n",
    "        self.get_subsets(res, nums, curr_set, 0)\n",
    "        return(res)\n",
    "    \n",
    "    def get_subsets(self, res, nums, curr_set, pos):\n",
    "        # recursive\n",
    "        if pos < len(nums):\n",
    "            for i in range(pos, len(nums)):\n",
    "                if i != pos and nums[i] == nums[i - 1]:\n",
    "                    continue\n",
    "                curr_set.append(nums[i])\n",
    "                print(curr_set)\n",
    "                res.append(copy.deepcopy(curr_set))\n",
    "                self.get_subsets(res, nums, curr_set, i + 1)\n",
    "                curr_set.pop(len(curr_set) - 1)\n",
    "            \n",
    "if __name__ == \"__main__\":\n",
    "    s = Solution()\n",
    "    print(s.subsetsWithDup([1,2,3]))"
   ]
  },
  {
   "cell_type": "code",
   "execution_count": 5,
   "metadata": {},
   "outputs": [
    {
     "name": "stdout",
     "output_type": "stream",
     "text": [
      "[1]\n",
      "[1, 2]\n",
      "[1, 2, 3]\n",
      "[1, 3]\n",
      "[2]\n",
      "[2, 3]\n",
      "[3]\n",
      "[[], [1], [1, 2], [1, 2, 3], [1, 3], [2], [2, 3], [3]]\n"
     ]
    }
   ],
   "source": [
    "import copy\n",
    "\n",
    "class Solution(object):\n",
    "    \n",
    "    def __init__(self):\n",
    "        self.res = [[]]\n",
    "        \n",
    "    def subsetsWithDup(self, nums):\n",
    "        \"\"\"\n",
    "        :type nums: List[int]\n",
    "        :rtype: List[List[int]]\n",
    "        \"\"\"\n",
    "        curr_set = []\n",
    "        nums = sorted(nums)\n",
    "        self.get_subsets(self.res, nums, curr_set, 0)\n",
    "        return(self.res)\n",
    "    \n",
    "    def get_subsets(self, res, nums, curr_set, pos):\n",
    "        # recursive\n",
    "        if pos < len(nums):\n",
    "            for i in range(pos, len(nums)):\n",
    "                if i != pos and nums[i] == nums[i - 1]:\n",
    "                    continue\n",
    "                curr_set.append(nums[i])\n",
    "                print(curr_set)\n",
    "                res.append(copy.deepcopy(curr_set))\n",
    "                self.get_subsets(res, nums, curr_set, i + 1)\n",
    "                curr_set.pop(len(curr_set) - 1)\n",
    "            \n",
    "if __name__ == \"__main__\":\n",
    "    s = Solution()\n",
    "    print(s.subsetsWithDup([1,2,3]))"
   ]
  },
  {
   "cell_type": "code",
   "execution_count": 6,
   "metadata": {},
   "outputs": [
    {
     "data": {
      "text/plain": [
       "[1, 1, 5]"
      ]
     },
     "execution_count": 6,
     "metadata": {},
     "output_type": "execute_result"
    }
   ],
   "source": [
    "sorted([1,5,1])"
   ]
  },
  {
   "cell_type": "code",
   "execution_count": 8,
   "metadata": {},
   "outputs": [],
   "source": [
    "[1,5,1].sort()"
   ]
  },
  {
   "cell_type": "code",
   "execution_count": 22,
   "metadata": {},
   "outputs": [
    {
     "name": "stdout",
     "output_type": "stream",
     "text": [
      "[[1, 1, 3], [1, 3, 1], [3, 1, 1]]\n"
     ]
    }
   ],
   "source": [
    "class Solution:\n",
    "    def permuteUnique(self, nums): # List[int]) -> List[List[int]]:\n",
    "        res = []\n",
    "        tmp_list = []\n",
    "        #nums.sorted()\n",
    "        self.get_permute(res, nums, tmp_list)\n",
    "        return(res)\n",
    "        \n",
    "    def get_permute(self, res, nums, tmp_list):\n",
    "\n",
    "        if len(nums) == 0 and tmp_list not in res:\n",
    "            res.append(tmp_list[:])\n",
    "            return \n",
    "        else:\n",
    "            for i in range(len(nums)):\n",
    "                tmp_list.append(nums[i])\n",
    "                nums_subset = nums[:i] + nums[i+1:]\n",
    "                self.get_permute(res, nums_subset, tmp_list)\n",
    "                tmp_list.pop(len(tmp_list) - 1)\n",
    "                \n",
    "if __name__ == \"__main__\":\n",
    "    s = Solution()\n",
    "    print(s.permuteUnique([1,1,3]))            "
   ]
  },
  {
   "cell_type": "markdown",
   "metadata": {},
   "source": [
    "# cobination sum"
   ]
  },
  {
   "cell_type": "code",
   "execution_count": 15,
   "metadata": {},
   "outputs": [
    {
     "name": "stdout",
     "output_type": "stream",
     "text": [
      "1\n",
      "1\n",
      "1\n",
      "1\n",
      "1\n",
      "1\n",
      "1\n",
      "[1, 1, 1, 1, 1, 1, 1]\n",
      "[[1, 1, 1, 1, 1, 1, 1]]\n"
     ]
    }
   ],
   "source": [
    "class Solution:\n",
    "    def combinationSum(self, candidates, target): #List[int], target: int) -> List[List[int]]:\n",
    "        res = []\n",
    "        tmp_list = []\n",
    "        pos = 0\n",
    "        candidates.sort()\n",
    "        self.get_combination(res, target, candidates, tmp_list, pos)\n",
    "        return(res)\n",
    "        \n",
    "    def get_combination(self, res, target, candidates, tmp_list, pos):\n",
    "        if target == 0:\n",
    "            print(tmp_list)\n",
    "            res.append(tmp_list[:])\n",
    "            return\n",
    "        else:\n",
    "            for i in range(pos, len(candidates)):\n",
    "                if candidates[i] <= target and candidates[i] != candidates[i - 1]:\n",
    "                    print(candidates[i])\n",
    "                    tmp_list.append(candidates[i])\n",
    "                    self.get_combination(res, target - candidates[i], candidates, tmp_list, i)\n",
    "                    tmp_list.pop(len(tmp_list) - 1)\n",
    "                else:\n",
    "                    break\n",
    "if __name__ == \"__main__\":\n",
    "    s = Solution()\n",
    "    print(s.combinationSum([1,2,1,3], 7))                             "
   ]
  },
  {
   "cell_type": "code",
   "execution_count": 29,
   "metadata": {},
   "outputs": [
    {
     "name": "stdout",
     "output_type": "stream",
     "text": [
      "[(1, 2), (1, 3), (2, 3)]\n"
     ]
    }
   ],
   "source": [
    "from itertools import combinations\n",
    "\n",
    "class Solution:\n",
    "    def combination(self, n, k):\n",
    "        res = list(combinations(list(range(1, n+1)), k))\n",
    "        return(res)\n",
    "    \n",
    "if __name__ == \"__main__\":\n",
    "    s = Solution()\n",
    "    print(s.combination(3, 2))"
   ]
  },
  {
   "cell_type": "code",
   "execution_count": 30,
   "metadata": {},
   "outputs": [
    {
     "data": {
      "text/plain": [
       "[(1, 2)]"
      ]
     },
     "execution_count": 30,
     "metadata": {},
     "output_type": "execute_result"
    }
   ],
   "source": [
    "list(combinations(list(range(1, 3)),2))"
   ]
  },
  {
   "cell_type": "code",
   "execution_count": 19,
   "metadata": {},
   "outputs": [
    {
     "data": {
      "text/plain": [
       "[(1, 2), (1, 4), (2, 4)]"
      ]
     },
     "execution_count": 19,
     "metadata": {},
     "output_type": "execute_result"
    }
   ],
   "source": [
    "list(combinations([1, 2, 4], 2))"
   ]
  },
  {
   "cell_type": "code",
   "execution_count": 33,
   "metadata": {},
   "outputs": [
    {
     "name": "stdout",
     "output_type": "stream",
     "text": [
      "[[1, 2], [1, 3], [2, 3]]\n"
     ]
    }
   ],
   "source": [
    "class Solution:\n",
    "    def combine(self, n, k):\n",
    "        res = []\n",
    "        if k == 0:\n",
    "            return [[]]\n",
    "        for i in range(k, n+1):\n",
    "            for pre in self.combine(i-1, k-1):\n",
    "                res.append(pre + [i])  \n",
    "        return(res)\n",
    "    \n",
    "if __name__ == \"__main__\":\n",
    "    s = Solution()\n",
    "    print(s.combine(3, 2))"
   ]
  },
  {
   "cell_type": "code",
   "execution_count": null,
   "metadata": {},
   "outputs": [],
   "source": [
    " "
   ]
  },
  {
   "cell_type": "code",
   "execution_count": 2,
   "metadata": {},
   "outputs": [
    {
     "ename": "TypeError",
     "evalue": "list indices must be integers or slices, not float",
     "output_type": "error",
     "traceback": [
      "\u001b[0;31m---------------------------------------------------------------------------\u001b[0m",
      "\u001b[0;31mTypeError\u001b[0m                                 Traceback (most recent call last)",
      "\u001b[0;32m<ipython-input-2-6eb46009c0a0>\u001b[0m in \u001b[0;36m<module>\u001b[0;34m()\u001b[0m\n\u001b[1;32m     26\u001b[0m \u001b[0;32mif\u001b[0m \u001b[0m__name__\u001b[0m \u001b[0;34m==\u001b[0m \u001b[0;34m\"__main__\"\u001b[0m\u001b[0;34m:\u001b[0m\u001b[0;34m\u001b[0m\u001b[0m\n\u001b[1;32m     27\u001b[0m     \u001b[0ms\u001b[0m \u001b[0;34m=\u001b[0m \u001b[0mSolution\u001b[0m\u001b[0;34m(\u001b[0m\u001b[0;34m)\u001b[0m\u001b[0;34m\u001b[0m\u001b[0m\n\u001b[0;32m---> 28\u001b[0;31m     \u001b[0mprint\u001b[0m\u001b[0;34m(\u001b[0m\u001b[0ms\u001b[0m\u001b[0;34m.\u001b[0m\u001b[0msearch\u001b[0m\u001b[0;34m(\u001b[0m\u001b[0;34m[\u001b[0m\u001b[0;36m3\u001b[0m\u001b[0;34m,\u001b[0m \u001b[0;36m12\u001b[0m\u001b[0;34m,\u001b[0m \u001b[0;36m17\u001b[0m\u001b[0;34m]\u001b[0m\u001b[0;34m,\u001b[0m \u001b[0;36m12\u001b[0m\u001b[0;34m)\u001b[0m\u001b[0;34m)\u001b[0m\u001b[0;34m\u001b[0m\u001b[0m\n\u001b[0m",
      "\u001b[0;32m<ipython-input-2-6eb46009c0a0>\u001b[0m in \u001b[0;36msearch\u001b[0;34m(self, nums, target)\u001b[0m\n\u001b[1;32m     12\u001b[0m             \u001b[0;31m# check the mid value (avoid stackoverflow)\u001b[0m\u001b[0;34m\u001b[0m\u001b[0;34m\u001b[0m\u001b[0m\n\u001b[1;32m     13\u001b[0m             \u001b[0mmid\u001b[0m \u001b[0;34m=\u001b[0m \u001b[0mstart\u001b[0m \u001b[0;34m+\u001b[0m \u001b[0;34m(\u001b[0m\u001b[0mend\u001b[0m \u001b[0;34m-\u001b[0m \u001b[0mstart\u001b[0m\u001b[0;34m)\u001b[0m \u001b[0;34m/\u001b[0m \u001b[0;36m2\u001b[0m\u001b[0;34m\u001b[0m\u001b[0m\n\u001b[0;32m---> 14\u001b[0;31m             \u001b[0;32mif\u001b[0m \u001b[0mnums\u001b[0m\u001b[0;34m[\u001b[0m\u001b[0mmid\u001b[0m\u001b[0;34m]\u001b[0m \u001b[0;34m==\u001b[0m \u001b[0mtarget\u001b[0m\u001b[0;34m:\u001b[0m\u001b[0;34m\u001b[0m\u001b[0m\n\u001b[0m\u001b[1;32m     15\u001b[0m                 \u001b[0;32mreturn\u001b[0m\u001b[0;34m(\u001b[0m\u001b[0mmid\u001b[0m\u001b[0;34m)\u001b[0m\u001b[0;34m\u001b[0m\u001b[0m\n\u001b[1;32m     16\u001b[0m             \u001b[0;32melif\u001b[0m \u001b[0mnums\u001b[0m\u001b[0;34m[\u001b[0m\u001b[0mmid\u001b[0m\u001b[0;34m]\u001b[0m \u001b[0;34m<\u001b[0m \u001b[0mtarget\u001b[0m\u001b[0;34m:\u001b[0m\u001b[0;34m\u001b[0m\u001b[0m\n",
      "\u001b[0;31mTypeError\u001b[0m: list indices must be integers or slices, not float"
     ]
    }
   ],
   "source": [
    "class Solution:\n",
    "    def search(self, nums, target): #List[int], target: int) -> int:\n",
    "        # check if the input is empty\n",
    "        if len(nums) == 0:\n",
    "            return(-1)\n",
    "\n",
    "        start = 0\n",
    "        end = len(nums) - 1\n",
    "        mid = 0\n",
    "\n",
    "        while start + 1 < end:\n",
    "            # check the mid value (avoid stackoverflow)\n",
    "            mid = start + (end - start) / 2\n",
    "            if nums[mid] == target:\n",
    "                return(mid)\n",
    "            elif nums[mid] < target:\n",
    "                start = mid\n",
    "            elif nums[mid] > target:\n",
    "                end = mid\n",
    "\n",
    "        if nums[start] == target:\n",
    "            return(start)\n",
    "        if nums[end] == target:\n",
    "            return(end)\n",
    "        \n",
    "if __name__ == \"__main__\":\n",
    "    s = Solution()\n",
    "    print(s.search([3, 12, 17], 12))        "
   ]
  },
  {
   "cell_type": "code",
   "execution_count": 13,
   "metadata": {},
   "outputs": [
    {
     "name": "stdout",
     "output_type": "stream",
     "text": [
      "1\n",
      "-1\n"
     ]
    }
   ],
   "source": [
    "class Solution:\n",
    "    def search(self, nums, target): #List[int], target: int) -> int:\n",
    "        if len(nums) == 0:\n",
    "            return(-1)\n",
    "        start = 0\n",
    "        end = len(nums) - 1\n",
    "        mid = 0\n",
    "        while start + 1 < end:\n",
    "            # check the mid value (avoid stackoverflow)\n",
    "            mid = start + (end - start) // 2\n",
    "            if nums[mid] == target:\n",
    "                return(mid)\n",
    "            elif nums[mid] < target:\n",
    "                start = mid\n",
    "            elif nums[mid] > target:\n",
    "                end = mid\n",
    "        if nums[start] == target:\n",
    "            return(start)\n",
    "        if nums[end] == target:\n",
    "            return(end)\n",
    "        return(-1)\n",
    "        \n",
    "        \n",
    "if __name__ == \"__main__\":\n",
    "    s = Solution()\n",
    "    print(s.search([3, 12, 17], 12))   \n",
    "    print(s.search([3, 12, 17], 19))   "
   ]
  },
  {
   "cell_type": "code",
   "execution_count": 14,
   "metadata": {},
   "outputs": [
    {
     "data": {
      "text/plain": [
       "4"
      ]
     },
     "execution_count": 14,
     "metadata": {},
     "output_type": "execute_result"
    }
   ],
   "source": [
    "9//2"
   ]
  }
 ],
 "metadata": {
  "kernelspec": {
   "display_name": "Python 3",
   "language": "python",
   "name": "python3"
  },
  "language_info": {
   "codemirror_mode": {
    "name": "ipython",
    "version": 3
   },
   "file_extension": ".py",
   "mimetype": "text/x-python",
   "name": "python",
   "nbconvert_exporter": "python",
   "pygments_lexer": "ipython3",
   "version": "3.6.3"
  }
 },
 "nbformat": 4,
 "nbformat_minor": 2
}
