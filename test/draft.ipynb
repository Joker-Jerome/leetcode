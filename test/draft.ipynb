{
 "cells": [
  {
   "cell_type": "code",
   "execution_count": 2,
   "metadata": {},
   "outputs": [
    {
     "name": "stdout",
     "output_type": "stream",
     "text": [
      "[1]\n",
      "[1, 2]\n",
      "[1, 2, 2]\n",
      "[2]\n",
      "[2, 2]\n",
      "[[], [1], [1, 2], [1, 2, 2], [2], [2, 2]]\n"
     ]
    }
   ],
   "source": [
    "import copy\n",
    "\n",
    "class Solution(object):\n",
    "    def subsetsWithDup(self, nums):\n",
    "        \"\"\"\n",
    "        :type nums: List[int]\n",
    "        :rtype: List[List[int]]\n",
    "        \"\"\"\n",
    "        res = [[]]\n",
    "        curr_set = []\n",
    "        nums = sorted(nums)\n",
    "        self.get_subsets(res, nums, curr_set, 0)\n",
    "        return(res)\n",
    "    \n",
    "    def get_subsets(self, res, nums, curr_set, pos):\n",
    "        # recursive\n",
    "        if pos < len(nums):\n",
    "            for i in range(pos, len(nums)):\n",
    "                if i != pos and nums[i] == nums[i - 1]:\n",
    "                    continue\n",
    "                curr_set.append(nums[i])\n",
    "                print(curr_set)\n",
    "                res.append(copy.deepcopy(curr_set))\n",
    "                self.get_subsets(res, nums, curr_set, i + 1)\n",
    "                curr_set.pop(len(curr_set) - 1)\n",
    "            \n",
    "if __name__ == \"__main__\":\n",
    "    s = Solution()\n",
    "    print(s.subsetsWithDup([1,2,2]))"
   ]
  },
  {
   "cell_type": "code",
   "execution_count": 3,
   "metadata": {},
   "outputs": [
    {
     "name": "stdout",
     "output_type": "stream",
     "text": [
      "[1]\n",
      "[1, 2]\n",
      "[1, 2, 3]\n",
      "[1, 3]\n",
      "[2]\n",
      "[2, 3]\n",
      "[3]\n",
      "[[], [1], [1, 2], [1, 2, 3], [1, 3], [2], [2, 3], [3]]\n"
     ]
    }
   ],
   "source": [
    "import copy\n",
    "\n",
    "class Solution(object):\n",
    "    def subsetsWithDup(self, nums):\n",
    "        \"\"\"\n",
    "        :type nums: List[int]\n",
    "        :rtype: List[List[int]]\n",
    "        \"\"\"\n",
    "        res = [[]]\n",
    "        curr_set = []\n",
    "        nums = sorted(nums)\n",
    "        self.get_subsets(res, nums, curr_set, 0)\n",
    "        return(res)\n",
    "    \n",
    "    def get_subsets(self, res, nums, curr_set, pos):\n",
    "        # recursive\n",
    "        if pos < len(nums):\n",
    "            for i in range(pos, len(nums)):\n",
    "                if i != pos and nums[i] == nums[i - 1]:\n",
    "                    continue\n",
    "                curr_set.append(nums[i])\n",
    "                print(curr_set)\n",
    "                res.append(copy.deepcopy(curr_set))\n",
    "                self.get_subsets(res, nums, curr_set, i + 1)\n",
    "                curr_set.pop(len(curr_set) - 1)\n",
    "            \n",
    "if __name__ == \"__main__\":\n",
    "    s = Solution()\n",
    "    print(s.subsetsWithDup([1,2,3]))"
   ]
  },
  {
   "cell_type": "code",
   "execution_count": 5,
   "metadata": {},
   "outputs": [
    {
     "name": "stdout",
     "output_type": "stream",
     "text": [
      "[1]\n",
      "[1, 2]\n",
      "[1, 2, 3]\n",
      "[1, 3]\n",
      "[2]\n",
      "[2, 3]\n",
      "[3]\n",
      "[[], [1], [1, 2], [1, 2, 3], [1, 3], [2], [2, 3], [3]]\n"
     ]
    }
   ],
   "source": [
    "import copy\n",
    "\n",
    "class Solution(object):\n",
    "    \n",
    "    def __init__(self):\n",
    "        self.res = [[]]\n",
    "        \n",
    "    def subsetsWithDup(self, nums):\n",
    "        \"\"\"\n",
    "        :type nums: List[int]\n",
    "        :rtype: List[List[int]]\n",
    "        \"\"\"\n",
    "        curr_set = []\n",
    "        nums = sorted(nums)\n",
    "        self.get_subsets(self.res, nums, curr_set, 0)\n",
    "        return(self.res)\n",
    "    \n",
    "    def get_subsets(self, res, nums, curr_set, pos):\n",
    "        # recursive\n",
    "        if pos < len(nums):\n",
    "            for i in range(pos, len(nums)):\n",
    "                if i != pos and nums[i] == nums[i - 1]:\n",
    "                    continue\n",
    "                curr_set.append(nums[i])\n",
    "                print(curr_set)\n",
    "                res.append(copy.deepcopy(curr_set))\n",
    "                self.get_subsets(res, nums, curr_set, i + 1)\n",
    "                curr_set.pop(len(curr_set) - 1)\n",
    "            \n",
    "if __name__ == \"__main__\":\n",
    "    s = Solution()\n",
    "    print(s.subsetsWithDup([1,2,3]))"
   ]
  },
  {
   "cell_type": "code",
   "execution_count": 6,
   "metadata": {},
   "outputs": [
    {
     "data": {
      "text/plain": [
       "[1, 1, 5]"
      ]
     },
     "execution_count": 6,
     "metadata": {},
     "output_type": "execute_result"
    }
   ],
   "source": [
    "sorted([1,5,1])"
   ]
  },
  {
   "cell_type": "code",
   "execution_count": 8,
   "metadata": {},
   "outputs": [],
   "source": [
    "[1,5,1].sort()"
   ]
  }
 ],
 "metadata": {
  "kernelspec": {
   "display_name": "Python 3",
   "language": "python",
   "name": "python3"
  },
  "language_info": {
   "codemirror_mode": {
    "name": "ipython",
    "version": 3
   },
   "file_extension": ".py",
   "mimetype": "text/x-python",
   "name": "python",
   "nbconvert_exporter": "python",
   "pygments_lexer": "ipython3",
   "version": "3.6.3"
  }
 },
 "nbformat": 4,
 "nbformat_minor": 2
}
