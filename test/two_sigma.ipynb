{
 "cells": [
  {
   "cell_type": "code",
   "execution_count": 12,
   "metadata": {},
   "outputs": [],
   "source": [
    "import numpy as np\n",
    "import pandas as pd"
   ]
  },
  {
   "cell_type": "code",
   "execution_count": null,
   "metadata": {},
   "outputs": [],
   "source": [
    "n = int(input())\n",
    "for i in range(n):\n",
    "    a, b = input().strip().split(' ')\n",
    "    print (int(a) + int(b))\n",
    "    \n"
   ]
  },
  {
   "cell_type": "code",
   "execution_count": null,
   "metadata": {},
   "outputs": [],
   "source": [
    "#!/bin/python3\n",
    "\n",
    "import math\n",
    "import os\n",
    "import random\n",
    "import re\n",
    "import sys\n",
    "\n",
    "# Complete the sockMerchant function below.\n",
    "def sockMerchant(n, ar):\n",
    "\n",
    "if __name__ == '__main__':\n",
    "    fptr = open(os.environ['OUTPUT_PATH'], 'w')\n",
    "\n",
    "    n = int(input())\n",
    "\n",
    "    ar = list(map(int, input().rstrip().split()))\n",
    "\n",
    "    result = sockMerchant(n, ar)\n",
    "\n",
    "    fptr.write(str(result) + '\\n')\n",
    "\n",
    "    fptr.close()"
   ]
  },
  {
   "cell_type": "code",
   "execution_count": null,
   "metadata": {},
   "outputs": [],
   "source": [
    "def backward_elimination(data, target,significance_level = 0.05):\n",
    "    features = data.columns.tolist()\n",
    "    while(len(features)>0):\n",
    "        features_with_constant = sm.add_constant(data[features])\n",
    "        p_values = sm.OLS(target, features_with_constant).fit().pvalues[1:]\n",
    "        max_p_value = p_values.max()\n",
    "        if(max_p_value >= significance_level):\n",
    "            excluded_feature = p_values.idxmax()\n",
    "            features.remove(excluded_feature)\n",
    "        else:\n",
    "            break \n",
    "    return features"
   ]
  },
  {
   "cell_type": "code",
   "execution_count": null,
   "metadata": {},
   "outputs": [],
   "source": [
    "find circle"
   ]
  },
  {
   "cell_type": "code",
   "execution_count": null,
   "metadata": {},
   "outputs": [],
   "source": [
    "def findCircleNum(self, A):\n",
    "    N = len(A)\n",
    "    seen = set()\n",
    "    def dfs(node):\n",
    "        for nei, adj in enumerate(A[node]):\n",
    "            if adj and nei not in seen:\n",
    "                seen.add(nei)\n",
    "                dfs(nei)\n",
    "    \n",
    "    ans = 0\n",
    "    for i in xrange(N):\n",
    "        if i not in seen:\n",
    "            dfs(i)\n",
    "            ans += 1\n",
    "    return ans"
   ]
  },
  {
   "cell_type": "code",
   "execution_count": null,
   "metadata": {},
   "outputs": [],
   "source": [
    "longest string chained"
   ]
  },
  {
   "cell_type": "code",
   "execution_count": null,
   "metadata": {},
   "outputs": [],
   "source": [
    "class Solution:\n",
    "    def longestStrChain(self, words: List[str]) -> int:\n",
    "        d = dict()\n",
    "        for word in words:\n",
    "            d[word] = 1\n",
    "        longest = 1\n",
    "        for word in sorted(words, key=len):\n",
    "            for i in range(len(word)):\n",
    "                prev = word[:i] + word[i + 1:]\n",
    "                if prev in d:\n",
    "                    d[word] = max(d[word], d[prev] + 1)\n",
    "            longest = max(longest, d[word])\n",
    "        return longest"
   ]
  },
  {
   "cell_type": "code",
   "execution_count": 16,
   "metadata": {},
   "outputs": [
    {
     "ename": "NameError",
     "evalue": "name 'Town1' is not defined",
     "output_type": "error",
     "traceback": [
      "\u001b[0;31m---------------------------------------------------------------------------\u001b[0m",
      "\u001b[0;31mNameError\u001b[0m                                 Traceback (most recent call last)",
      "\u001b[0;32m<ipython-input-16-c13c922ee9ee>\u001b[0m in \u001b[0;36m<module>\u001b[0;34m\u001b[0m\n\u001b[0;32m----> 1\u001b[0;31m fs = [[Town1,Town2,Town3,Town4,Town5,NYC],\n\u001b[0m\u001b[1;32m      2\u001b[0m \u001b[0;34m[\u001b[0m\u001b[0;36m70\u001b[0m\u001b[0;34m,\u001b[0m\u001b[0;36m95\u001b[0m\u001b[0;34m,\u001b[0m\u001b[0;36m34\u001b[0m\u001b[0;34m,\u001b[0m\u001b[0;36m46\u001b[0m\u001b[0;34m,\u001b[0m\u001b[0;36m10\u001b[0m\u001b[0;34m,\u001b[0m\u001b[0;36m50\u001b[0m\u001b[0;34m]\u001b[0m\u001b[0;34m,\u001b[0m\u001b[0;34m\u001b[0m\u001b[0;34m\u001b[0m\u001b[0m\n\u001b[1;32m      3\u001b[0m \u001b[0;34m[\u001b[0m\u001b[0;36m65\u001b[0m\u001b[0;34m,\u001b[0m\u001b[0;36m88\u001b[0m\u001b[0;34m,\u001b[0m\u001b[0;36m45\u001b[0m\u001b[0;34m,\u001b[0m\u001b[0;36m24\u001b[0m\u001b[0;34m,\u001b[0m\u001b[0;36m32\u001b[0m\u001b[0;34m,\u001b[0m\u001b[0;36m51\u001b[0m\u001b[0;34m]\u001b[0m\u001b[0;34m,\u001b[0m\u001b[0;34m\u001b[0m\u001b[0;34m\u001b[0m\u001b[0m\n\u001b[1;32m      4\u001b[0m \u001b[0;34m[\u001b[0m\u001b[0;36m87\u001b[0m\u001b[0;34m,\u001b[0m\u001b[0;36m91\u001b[0m\u001b[0;34m,\u001b[0m\u001b[0;36m23\u001b[0m\u001b[0;34m,\u001b[0m\u001b[0;36m35\u001b[0m\u001b[0;34m,\u001b[0m\u001b[0;36m10\u001b[0m\u001b[0;34m,\u001b[0m\u001b[0;36m78\u001b[0m\u001b[0;34m]\u001b[0m\u001b[0;34m,\u001b[0m\u001b[0;34m\u001b[0m\u001b[0;34m\u001b[0m\u001b[0m\n\u001b[1;32m      5\u001b[0m [67,101,34,55,15,88]]\n",
      "\u001b[0;31mNameError\u001b[0m: name 'Town1' is not defined"
     ]
    }
   ],
   "source": [
    "fs = [[Town1,Town2,Town3,Town4,Town5,NYC],\n",
    "[70,95,34,46,10,50],\n",
    "[65,88,45,24,32,51],\n",
    "[87,91,23,35,10,78],\n",
    "[67,101,34,55,15,88]]"
   ]
  },
  {
   "cell_type": "code",
   "execution_count": 17,
   "metadata": {},
   "outputs": [],
   "source": [
    "df = pd.read_csv(\"test.csv\")"
   ]
  },
  {
   "cell_type": "code",
   "execution_count": 18,
   "metadata": {},
   "outputs": [
    {
     "data": {
      "text/html": [
       "<div>\n",
       "<style scoped>\n",
       "    .dataframe tbody tr th:only-of-type {\n",
       "        vertical-align: middle;\n",
       "    }\n",
       "\n",
       "    .dataframe tbody tr th {\n",
       "        vertical-align: top;\n",
       "    }\n",
       "\n",
       "    .dataframe thead th {\n",
       "        text-align: right;\n",
       "    }\n",
       "</style>\n",
       "<table border=\"1\" class=\"dataframe\">\n",
       "  <thead>\n",
       "    <tr style=\"text-align: right;\">\n",
       "      <th></th>\n",
       "      <th>Town1</th>\n",
       "      <th>Town2</th>\n",
       "      <th>Town3</th>\n",
       "      <th>Town4</th>\n",
       "      <th>Town5</th>\n",
       "      <th>NYC</th>\n",
       "    </tr>\n",
       "  </thead>\n",
       "  <tbody>\n",
       "    <tr>\n",
       "      <th>0</th>\n",
       "      <td>70</td>\n",
       "      <td>95</td>\n",
       "      <td>34</td>\n",
       "      <td>46</td>\n",
       "      <td>10</td>\n",
       "      <td>50</td>\n",
       "    </tr>\n",
       "    <tr>\n",
       "      <th>1</th>\n",
       "      <td>65</td>\n",
       "      <td>88</td>\n",
       "      <td>45</td>\n",
       "      <td>24</td>\n",
       "      <td>32</td>\n",
       "      <td>51</td>\n",
       "    </tr>\n",
       "    <tr>\n",
       "      <th>2</th>\n",
       "      <td>87</td>\n",
       "      <td>91</td>\n",
       "      <td>23</td>\n",
       "      <td>35</td>\n",
       "      <td>10</td>\n",
       "      <td>78</td>\n",
       "    </tr>\n",
       "    <tr>\n",
       "      <th>3</th>\n",
       "      <td>67</td>\n",
       "      <td>101</td>\n",
       "      <td>34</td>\n",
       "      <td>55</td>\n",
       "      <td>15</td>\n",
       "      <td>88</td>\n",
       "    </tr>\n",
       "  </tbody>\n",
       "</table>\n",
       "</div>"
      ],
      "text/plain": [
       "   Town1  Town2  Town3  Town4  Town5  NYC\n",
       "0     70     95     34     46     10   50\n",
       "1     65     88     45     24     32   51\n",
       "2     87     91     23     35     10   78\n",
       "3     67    101     34     55     15   88"
      ]
     },
     "execution_count": 18,
     "metadata": {},
     "output_type": "execute_result"
    }
   ],
   "source": [
    "df"
   ]
  },
  {
   "cell_type": "code",
   "execution_count": 52,
   "metadata": {},
   "outputs": [
    {
     "data": {
      "text/plain": [
       "'NYC'"
      ]
     },
     "execution_count": 52,
     "metadata": {},
     "output_type": "execute_result"
    }
   ],
   "source": [
    "df.columns[np.argmax(df.std().tolist())]"
   ]
  },
  {
   "cell_type": "code",
   "execution_count": 22,
   "metadata": {},
   "outputs": [
    {
     "data": {
      "text/plain": [
       "'NYC'"
      ]
     },
     "execution_count": 22,
     "metadata": {},
     "output_type": "execute_result"
    }
   ],
   "source": [
    "df.columns[np.argmax(df.std())]"
   ]
  },
  {
   "cell_type": "code",
   "execution_count": 55,
   "metadata": {},
   "outputs": [
    {
     "data": {
      "text/plain": [
       "64"
      ]
     },
     "execution_count": 55,
     "metadata": {},
     "output_type": "execute_result"
    }
   ],
   "source": [
    "round(64.0)"
   ]
  },
  {
   "cell_type": "code",
   "execution_count": 33,
   "metadata": {},
   "outputs": [
    {
     "data": {
      "text/plain": [
       "64"
      ]
     },
     "execution_count": 33,
     "metadata": {},
     "output_type": "execute_result"
    }
   ],
   "source": [
    "round(np.median(df[(df.Town2 >= 90) & (df.Town2 <= 100)].NYC))\n"
   ]
  },
  {
   "cell_type": "code",
   "execution_count": 64,
   "metadata": {},
   "outputs": [],
   "source": [
    "import statsmodels.api as sm\n",
    "## add constant\n",
    "x_constant = sm.add_constant(df[['Town1', 'Town2', 'Town3', 'Town4', 'Town5']])\n",
    "\n",
    "## fit the model\n",
    "model_constant = sm.OLS(df.NYC, x_constant).fit()\n"
   ]
  },
  {
   "cell_type": "code",
   "execution_count": 67,
   "metadata": {},
   "outputs": [
    {
     "data": {
      "text/plain": [
       "const   -0.030739\n",
       "Town1    0.345403\n",
       "Town2    0.384079\n",
       "Town3   -3.976930\n",
       "Town4    1.825614\n",
       "Town5    4.060241\n",
       "dtype: float64"
      ]
     },
     "execution_count": 67,
     "metadata": {},
     "output_type": "execute_result"
    }
   ],
   "source": [
    "model_constant.params"
   ]
  },
  {
   "cell_type": "code",
   "execution_count": 66,
   "metadata": {},
   "outputs": [
    {
     "data": {
      "text/plain": [
       "11"
      ]
     },
     "execution_count": 66,
     "metadata": {},
     "output_type": "execute_result"
    }
   ],
   "source": [
    "round(np.sum(np.abs((model_constant.params[1:]))))"
   ]
  },
  {
   "cell_type": "code",
   "execution_count": 76,
   "metadata": {},
   "outputs": [
    {
     "data": {
      "text/plain": [
       "368.9166666666667"
      ]
     },
     "execution_count": 76,
     "metadata": {},
     "output_type": "execute_result"
    }
   ],
   "source": [
    "model_constant."
   ]
  },
  {
   "cell_type": "code",
   "execution_count": null,
   "metadata": {},
   "outputs": [],
   "source": []
  },
  {
   "cell_type": "code",
   "execution_count": 87,
   "metadata": {},
   "outputs": [],
   "source": [
    "a = list(df.columns)\n",
    "a.remove('NYC')"
   ]
  },
  {
   "cell_type": "code",
   "execution_count": 88,
   "metadata": {},
   "outputs": [
    {
     "data": {
      "text/plain": [
       "['Town1', 'Town2', 'Town3', 'Town4', 'Town5']"
      ]
     },
     "execution_count": 88,
     "metadata": {},
     "output_type": "execute_result"
    }
   ],
   "source": [
    "a"
   ]
  },
  {
   "cell_type": "code",
   "execution_count": 80,
   "metadata": {},
   "outputs": [
    {
     "name": "stdout",
     "output_type": "stream",
     "text": [
      "Town1\n",
      "Town2\n",
      "Town3\n",
      "Town4\n",
      "Town5\n"
     ]
    }
   ],
   "source": [
    "town_list = ['Town1', 'Town2', 'Town3', 'Town4', 'Town5']\n",
    "mse_list = []\n",
    "sum_param = 0\n",
    "\n",
    "# loop over all the towns and record the mse\n",
    "for town in town_list:\n",
    "    print(town)\n",
    "    x_constant = sm.add_constant(df[town])\n",
    "    ## fit the model\n",
    "    model_constant = sm.OLS(df.NYC, x_constant).fit()\n",
    "    sum_param += np.abs(model_constant.params[1])\n",
    "    y_pred = model_constant.predict(x_constant)\n",
    "    \n",
    "    #mse_list.append(model_constant.mse_total)\n",
    "    mse_list.append(np.mean((y_pred - df.NYC)**2))\n",
    "\n",
    "# answer \n",
    "str_Q3 = str(int(round(sum_param)))\n",
    "str_Q4 = town_list[np.argmax(mse_list)]"
   ]
  },
  {
   "cell_type": "code",
   "execution_count": 81,
   "metadata": {},
   "outputs": [
    {
     "data": {
      "text/plain": [
       "[241.56028075970272,\n",
       " 178.6596306068601,\n",
       " 185.5625,\n",
       " 197.63030442804433,\n",
       " 232.5252486610558]"
      ]
     },
     "execution_count": 81,
     "metadata": {},
     "output_type": "execute_result"
    }
   ],
   "source": [
    "mse_list"
   ]
  },
  {
   "cell_type": "code",
   "execution_count": 73,
   "metadata": {},
   "outputs": [
    {
     "data": {
      "text/plain": [
       "0    50\n",
       "1    51\n",
       "2    78\n",
       "3    88\n",
       "Name: NYC, dtype: int64"
      ]
     },
     "execution_count": 73,
     "metadata": {},
     "output_type": "execute_result"
    }
   ],
   "source": [
    "df.NYC"
   ]
  },
  {
   "cell_type": "code",
   "execution_count": 74,
   "metadata": {},
   "outputs": [
    {
     "data": {
      "text/html": [
       "<div>\n",
       "<style scoped>\n",
       "    .dataframe tbody tr th:only-of-type {\n",
       "        vertical-align: middle;\n",
       "    }\n",
       "\n",
       "    .dataframe tbody tr th {\n",
       "        vertical-align: top;\n",
       "    }\n",
       "\n",
       "    .dataframe thead th {\n",
       "        text-align: right;\n",
       "    }\n",
       "</style>\n",
       "<table border=\"1\" class=\"dataframe\">\n",
       "  <thead>\n",
       "    <tr style=\"text-align: right;\">\n",
       "      <th></th>\n",
       "      <th>const</th>\n",
       "      <th>Town5</th>\n",
       "    </tr>\n",
       "  </thead>\n",
       "  <tbody>\n",
       "    <tr>\n",
       "      <th>0</th>\n",
       "      <td>1.0</td>\n",
       "      <td>10</td>\n",
       "    </tr>\n",
       "    <tr>\n",
       "      <th>1</th>\n",
       "      <td>1.0</td>\n",
       "      <td>32</td>\n",
       "    </tr>\n",
       "    <tr>\n",
       "      <th>2</th>\n",
       "      <td>1.0</td>\n",
       "      <td>10</td>\n",
       "    </tr>\n",
       "    <tr>\n",
       "      <th>3</th>\n",
       "      <td>1.0</td>\n",
       "      <td>15</td>\n",
       "    </tr>\n",
       "  </tbody>\n",
       "</table>\n",
       "</div>"
      ],
      "text/plain": [
       "   const  Town5\n",
       "0    1.0     10\n",
       "1    1.0     32\n",
       "2    1.0     10\n",
       "3    1.0     15"
      ]
     },
     "execution_count": 74,
     "metadata": {},
     "output_type": "execute_result"
    }
   ],
   "source": [
    "x_constant"
   ]
  },
  {
   "cell_type": "code",
   "execution_count": 72,
   "metadata": {},
   "outputs": [
    {
     "data": {
      "text/plain": [
       "[368.9166666666667,\n",
       " 368.9166666666667,\n",
       " 368.9166666666667,\n",
       " 368.9166666666667,\n",
       " 368.9166666666667]"
      ]
     },
     "execution_count": 72,
     "metadata": {},
     "output_type": "execute_result"
    }
   ],
   "source": [
    "mse_list"
   ]
  },
  {
   "cell_type": "code",
   "execution_count": 77,
   "metadata": {},
   "outputs": [
    {
     "data": {
      "text/plain": [
       "0    71.713083\n",
       "1    55.537108\n",
       "2    71.713083\n",
       "3    68.036725\n",
       "dtype: float64"
      ]
     },
     "execution_count": 77,
     "metadata": {},
     "output_type": "execute_result"
    }
   ],
   "source": [
    "y_pred = model_constant.predict(x_constant)\n",
    "y_pred"
   ]
  },
  {
   "cell_type": "code",
   "execution_count": 41,
   "metadata": {},
   "outputs": [
    {
     "data": {
      "text/plain": [
       "368.9166666666667"
      ]
     },
     "execution_count": 41,
     "metadata": {},
     "output_type": "execute_result"
    }
   ],
   "source": [
    "model_constant.mse_model"
   ]
  },
  {
   "cell_type": "code",
   "execution_count": 42,
   "metadata": {},
   "outputs": [
    {
     "data": {
      "text/plain": [
       "368.9166666666667"
      ]
     },
     "execution_count": 42,
     "metadata": {},
     "output_type": "execute_result"
    }
   ],
   "source": [
    "model_constant.mse_total"
   ]
  },
  {
   "cell_type": "code",
   "execution_count": 43,
   "metadata": {},
   "outputs": [],
   "source": [
    "## add constant\n",
    "town_list = ['Town1', 'Town2', 'Town3', 'Town4', 'Town5']\n",
    "mse_list = []\n",
    "for town in town_list:\n",
    "    x_constant = sm.add_constant(df[town])\n",
    "    ## fit the model\n",
    "    model_constant = sm.OLS(df.NYC, x_constant).fit()\n",
    "    mse_list.append(model_constant.mse_total)\n",
    "    "
   ]
  },
  {
   "cell_type": "code",
   "execution_count": 44,
   "metadata": {},
   "outputs": [
    {
     "data": {
      "text/plain": [
       "'Town1'"
      ]
     },
     "execution_count": 44,
     "metadata": {},
     "output_type": "execute_result"
    }
   ],
   "source": [
    "town_list[np.argmax(mse_list)]"
   ]
  },
  {
   "cell_type": "code",
   "execution_count": 56,
   "metadata": {},
   "outputs": [
    {
     "name": "stderr",
     "output_type": "stream",
     "text": [
      "/Users/jerome/anaconda3/lib/python3.6/site-packages/sklearn/utils/validation.py:70: FutureWarning: Pass fit_intercept=0    50\n",
      "1    51\n",
      "2    78\n",
      "3    88\n",
      "Name: NYC, dtype: int64, normalize=   const  Town4  Town5\n",
      "0    1.0     46     10\n",
      "1    1.0     24     32\n",
      "2    1.0     35     10\n",
      "3    1.0     55     15 as keyword args. From version 0.25 passing these as positional arguments will result in an error\n",
      "  FutureWarning)\n"
     ]
    },
    {
     "ename": "TypeError",
     "evalue": "'LinearRegression' object is not callable",
     "output_type": "error",
     "traceback": [
      "\u001b[0;31m---------------------------------------------------------------------------\u001b[0m",
      "\u001b[0;31mTypeError\u001b[0m                                 Traceback (most recent call last)",
      "\u001b[0;32m<ipython-input-56-e8a7dbef029f>\u001b[0m in \u001b[0;36m<module>\u001b[0;34m\u001b[0m\n\u001b[1;32m      1\u001b[0m \u001b[0;32mfrom\u001b[0m \u001b[0msklearn\u001b[0m\u001b[0;34m.\u001b[0m\u001b[0mlinear_model\u001b[0m \u001b[0;32mimport\u001b[0m \u001b[0mLinearRegression\u001b[0m\u001b[0;34m\u001b[0m\u001b[0;34m\u001b[0m\u001b[0m\n\u001b[1;32m      2\u001b[0m \u001b[0;34m\u001b[0m\u001b[0m\n\u001b[0;32m----> 3\u001b[0;31m \u001b[0mmodel_constant\u001b[0m \u001b[0;34m=\u001b[0m \u001b[0mLinearRegression\u001b[0m\u001b[0;34m(\u001b[0m\u001b[0mdf\u001b[0m\u001b[0;34m.\u001b[0m\u001b[0mNYC\u001b[0m\u001b[0;34m,\u001b[0m \u001b[0mx_constant\u001b[0m\u001b[0;34m)\u001b[0m\u001b[0;34m(\u001b[0m\u001b[0;34m)\u001b[0m\u001b[0;34m.\u001b[0m\u001b[0mfit\u001b[0m\u001b[0;34m(\u001b[0m\u001b[0;34m)\u001b[0m\u001b[0;34m\u001b[0m\u001b[0;34m\u001b[0m\u001b[0m\n\u001b[0m",
      "\u001b[0;31mTypeError\u001b[0m: 'LinearRegression' object is not callable"
     ]
    }
   ],
   "source": [
    "from sklearn.linear_model import LinearRegression\n",
    "\n",
    "model_constant = LinearRegression(df.NYC, x_constant)().fit()"
   ]
  },
  {
   "cell_type": "code",
   "execution_count": null,
   "metadata": {},
   "outputs": [],
   "source": [
    "from sklearn.linear_model import LinearRegression\n",
    "## add constant\n",
    "town_list = ['Town1', 'Town2', 'Town3', 'Town4', 'Town5']\n",
    "mse_list = []\n",
    "for town in town_list:\n",
    "    x_constant = sm.add_constant(df[town])\n",
    "    ## fit the model\n",
    "    model_constant = LinearRegression(df.NYC, x_constant)().fit()\n",
    "    mse_list.append(model_constant.mse_total)\n",
    "    "
   ]
  },
  {
   "cell_type": "code",
   "execution_count": 46,
   "metadata": {},
   "outputs": [],
   "source": [
    "import itertools\n"
   ]
  },
  {
   "cell_type": "code",
   "execution_count": 49,
   "metadata": {},
   "outputs": [
    {
     "name": "stdout",
     "output_type": "stream",
     "text": [
      "['Town1', 'Town2']\n",
      "['Town1', 'Town3']\n",
      "['Town1', 'Town4']\n",
      "['Town1', 'Town5']\n",
      "['Town2', 'Town3']\n",
      "['Town2', 'Town4']\n",
      "['Town2', 'Town5']\n",
      "['Town3', 'Town4']\n",
      "['Town3', 'Town5']\n",
      "['Town4', 'Town5']\n"
     ]
    }
   ],
   "source": [
    "town_list = ['Town1', 'Town2', 'Town3', 'Town4', 'Town5']\n",
    "comb_list = []\n",
    "mse_list = []\n",
    "for idx, comb in enumerate(itertools.combinations(town_list, 2)):\n",
    "        # fit the model \n",
    "        comb = list(comb)\n",
    "        print(comb)\n",
    "        x_constant = sm.add_constant(df[comb])\n",
    "        ## fit the model\n",
    "        model_constant = sm.OLS(df.NYC, x_constant).fit()\n",
    "        comb_list.append(comb)\n",
    "        mse_list.append(model_constant.mse_total)"
   ]
  },
  {
   "cell_type": "code",
   "execution_count": 58,
   "metadata": {},
   "outputs": [
    {
     "data": {
      "text/plain": [
       "Town4    0.684722\n",
       "Town5   -0.154803\n",
       "dtype: float64"
      ]
     },
     "execution_count": 58,
     "metadata": {},
     "output_type": "execute_result"
    }
   ],
   "source": [
    "model_constant.params[1:]"
   ]
  },
  {
   "cell_type": "code",
   "execution_count": 62,
   "metadata": {},
   "outputs": [
    {
     "data": {
      "text/plain": [
       "1"
      ]
     },
     "execution_count": 62,
     "metadata": {},
     "output_type": "execute_result"
    }
   ],
   "source": [
    "round(np.sum(np.abs(model_constant.params[1:])))"
   ]
  },
  {
   "cell_type": "code",
   "execution_count": 51,
   "metadata": {},
   "outputs": [
    {
     "data": {
      "text/plain": [
       "'Town1,Town2'"
      ]
     },
     "execution_count": 51,
     "metadata": {},
     "output_type": "execute_result"
    }
   ],
   "source": [
    "\",\".join(comb_list[np.argmax(mse_list)])"
   ]
  },
  {
   "cell_type": "code",
   "execution_count": 7,
   "metadata": {},
   "outputs": [],
   "source": [
    "def linear_approx(x1, x2, y1, y2, x):\n",
    "    k = (y2 - y1)/(x2 - x1)\n",
    "    y = k * (x - x1) + y1\n",
    "    return y\n",
    "\n",
    "# main function of linear interpolation\n",
    "def linear_interpolate(n, x_knots, y_knots, x_input):\n",
    "    # Write your code here\n",
    "    # check the input \n",
    "    if not n or not x_knots or not y_knots or not x_input:\n",
    "        return []\n",
    "    \n",
    "    # init the parameters find the interval \n",
    "    l = len(x_knots)\n",
    "    start, end = 0, l - 1\n",
    "    left, right = 0, l - 1\n",
    "    x_knots_sorted = sorted(x_knots)\n",
    "    y_min = min(y_knots)\n",
    "    y_max = max(y_knots)\n",
    "    \n",
    "    # main loop\n",
    "    while start + 1 < end:\n",
    "        mid = (start + end ) // 2\n",
    "        val_mid = x_knots_sorted[mid]\n",
    "        \n",
    "        # evaluate \n",
    "        \n",
    "        if val_mid < x_input:\n",
    "            start = mid \n",
    "        elif val_mid > x_input:\n",
    "            end = mid \n",
    "        elif val_mid == x_input:\n",
    "            start = mid\n",
    "            end = mid \n",
    "            break\n",
    "    \n",
    "    # evalute the results\n",
    "    val_start, val_end = x_knots_sorted[start], x_knots_sorted[end]\n",
    "    \n",
    "    # find the element\n",
    "    idx_left = [i for i, x in enumerate(x_knots) if x == val_start]\n",
    "    idx_right = [i for i, x in enumerate(x_knots) if x == val_end]\n",
    "    x_left = [x_knots[i] for i in idx_left]\n",
    "    x_right = [x_knots[i] for i in idx_right]\n",
    "    y_left = [y_knots[i] for i in idx_left]\n",
    "    y_right = [y_knots[i] for i in idx_right]\n",
    "    \n",
    "    # compare the values \n",
    "    if x_input <= val_start:\n",
    "        idx_left = idx_left[y_left.index(min(y_left))]\n",
    "        idx_right = idx_right[y_right.index(min(y_right))]\n",
    "    elif x_input > val_end:\n",
    "        idx_left = idx_left[y_left.index(max(y_left))]\n",
    "        idx_right = idx_right[y_right.index(max(y_right))]\n",
    "    else:\n",
    "        idx_left = idx_left[y_left.index(max(y_left))]\n",
    "        idx_right = idx_right[y_right.index(min(y_right))]\n",
    "    x1, x2 = x_knots[idx_left], x_knots[idx_right]\n",
    "    y1, y2 = y_knots[idx_left], y_knots[idx_right]\n",
    "    return linear_approx(x1, x2, y1, y2, x_input)"
   ]
  },
  {
   "cell_type": "code",
   "execution_count": 8,
   "metadata": {},
   "outputs": [
    {
     "data": {
      "text/plain": [
       "-10.0"
      ]
     },
     "execution_count": 8,
     "metadata": {},
     "output_type": "execute_result"
    }
   ],
   "source": [
    "n = 5\n",
    "x_knots = [-2.0, -1.0, 0.0, 1.0, 2.0]\n",
    "y_knots = [0.0, 10.0, 15.0, 0.0, 5.0]\n",
    "x_input = -3\n",
    "linear_interpolate(n, x_knots, y_knots, x_input)"
   ]
  },
  {
   "cell_type": "code",
   "execution_count": 9,
   "metadata": {},
   "outputs": [
    {
     "data": {
      "text/plain": [
       "13.5"
      ]
     },
     "execution_count": 9,
     "metadata": {},
     "output_type": "execute_result"
    }
   ],
   "source": [
    "n = 6\n",
    "x_knots = [-2.0, -1.0, -1.0, 0.0, 1.0, 2.0]\n",
    "y_knots = [0.0, 10.0, 12.0, 15.0, 0.0, 5.0]\n",
    "x_input = -0.5\n",
    "linear_interpolate(n, x_knots, y_knots, x_input)"
   ]
  },
  {
   "cell_type": "code",
   "execution_count": 10,
   "metadata": {},
   "outputs": [
    {
     "ename": "KeyError",
     "evalue": "'OUTPUT_PATH'",
     "output_type": "error",
     "traceback": [
      "\u001b[0;31m---------------------------------------------------------------------------\u001b[0m",
      "\u001b[0;31mKeyError\u001b[0m                                  Traceback (most recent call last)",
      "\u001b[0;32m<ipython-input-10-22aef9be39db>\u001b[0m in \u001b[0;36m<module>\u001b[0;34m\u001b[0m\n\u001b[1;32m     91\u001b[0m \u001b[0;34m\u001b[0m\u001b[0m\n\u001b[1;32m     92\u001b[0m \u001b[0;32mif\u001b[0m \u001b[0m__name__\u001b[0m \u001b[0;34m==\u001b[0m \u001b[0;34m'__main__'\u001b[0m\u001b[0;34m:\u001b[0m\u001b[0;34m\u001b[0m\u001b[0;34m\u001b[0m\u001b[0m\n\u001b[0;32m---> 93\u001b[0;31m     \u001b[0mfptr\u001b[0m \u001b[0;34m=\u001b[0m \u001b[0mopen\u001b[0m\u001b[0;34m(\u001b[0m\u001b[0mos\u001b[0m\u001b[0;34m.\u001b[0m\u001b[0menviron\u001b[0m\u001b[0;34m[\u001b[0m\u001b[0;34m'OUTPUT_PATH'\u001b[0m\u001b[0;34m]\u001b[0m\u001b[0;34m,\u001b[0m \u001b[0;34m'w'\u001b[0m\u001b[0;34m)\u001b[0m\u001b[0;34m\u001b[0m\u001b[0;34m\u001b[0m\u001b[0m\n\u001b[0m\u001b[1;32m     94\u001b[0m \u001b[0;34m\u001b[0m\u001b[0m\n\u001b[1;32m     95\u001b[0m     \u001b[0mn\u001b[0m \u001b[0;34m=\u001b[0m \u001b[0mint\u001b[0m\u001b[0;34m(\u001b[0m\u001b[0minput\u001b[0m\u001b[0;34m(\u001b[0m\u001b[0;34m)\u001b[0m\u001b[0;34m.\u001b[0m\u001b[0mstrip\u001b[0m\u001b[0;34m(\u001b[0m\u001b[0;34m)\u001b[0m\u001b[0;34m)\u001b[0m\u001b[0;34m\u001b[0m\u001b[0;34m\u001b[0m\u001b[0m\n",
      "\u001b[0;32m~/anaconda3/lib/python3.6/os.py\u001b[0m in \u001b[0;36m__getitem__\u001b[0;34m(self, key)\u001b[0m\n\u001b[1;32m    667\u001b[0m         \u001b[0;32mexcept\u001b[0m \u001b[0mKeyError\u001b[0m\u001b[0;34m:\u001b[0m\u001b[0;34m\u001b[0m\u001b[0;34m\u001b[0m\u001b[0m\n\u001b[1;32m    668\u001b[0m             \u001b[0;31m# raise KeyError with the original key value\u001b[0m\u001b[0;34m\u001b[0m\u001b[0;34m\u001b[0m\u001b[0;34m\u001b[0m\u001b[0m\n\u001b[0;32m--> 669\u001b[0;31m             \u001b[0;32mraise\u001b[0m \u001b[0mKeyError\u001b[0m\u001b[0;34m(\u001b[0m\u001b[0mkey\u001b[0m\u001b[0;34m)\u001b[0m \u001b[0;32mfrom\u001b[0m \u001b[0;32mNone\u001b[0m\u001b[0;34m\u001b[0m\u001b[0;34m\u001b[0m\u001b[0m\n\u001b[0m\u001b[1;32m    670\u001b[0m         \u001b[0;32mreturn\u001b[0m \u001b[0mself\u001b[0m\u001b[0;34m.\u001b[0m\u001b[0mdecodevalue\u001b[0m\u001b[0;34m(\u001b[0m\u001b[0mvalue\u001b[0m\u001b[0;34m)\u001b[0m\u001b[0;34m\u001b[0m\u001b[0;34m\u001b[0m\u001b[0m\n\u001b[1;32m    671\u001b[0m \u001b[0;34m\u001b[0m\u001b[0m\n",
      "\u001b[0;31mKeyError\u001b[0m: 'OUTPUT_PATH'"
     ]
    }
   ],
   "source": [
    "#!/bin/python3\n",
    "\n",
    "import math\n",
    "import os\n",
    "import random\n",
    "import re\n",
    "import sys\n",
    "\n",
    "\n",
    "\n",
    "#\n",
    "# Complete the 'linear_interpolate' function below.\n",
    "#\n",
    "# The function is expected to return a float.\n",
    "# The function accepts following parameters:\n",
    "#  1. int n\n",
    "#  2. List[float] x_knots\n",
    "#  3. List[float] y_knots\n",
    "#  4. float x_input\n",
    "#\n",
    "# function to perform linear approx based on (x1, y1) and (x2, y2)\n",
    "def linear_approx(x1, x2, y1, y2, x):\n",
    "    k = (y2 - y1)/(x2 - x1)\n",
    "    y = k * (x - x1) + y1\n",
    "    return y\n",
    "\n",
    "# main function of linear interpolation\n",
    "def linear_interpolate(n, x_knots, y_knots, x_input):\n",
    "    # Write your code here\n",
    "    # check the input \n",
    "    if not n or not x_knots or not y_knots or not x_input:\n",
    "        return []\n",
    "    \n",
    "    # init the parameters find the interval \n",
    "    l = len(x_knots)\n",
    "    start, end = 0, l - 1\n",
    "    left, right = 0, l - 1\n",
    "    \n",
    "    # sort the x_knots so that we can perform binary search\n",
    "    x_knots_sorted = sorted(x_knots)\n",
    "    y_min = min(y_knots)\n",
    "    y_max = max(y_knots)\n",
    "    \n",
    "    # main loop: using binary search to identify the range \n",
    "    while start + 1 < end:\n",
    "        mid = (start + end ) // 2\n",
    "        val_mid = x_knots_sorted[mid]\n",
    "        \n",
    "        # evaluate the relationship between mid value and x_input    \n",
    "        if val_mid < x_input:\n",
    "            start = mid \n",
    "        elif val_mid > x_input:\n",
    "            end = mid \n",
    "        elif val_mid == x_input:\n",
    "            start = mid\n",
    "            end = mid \n",
    "            break\n",
    "    \n",
    "    # evalute the results\n",
    "    val_start, val_end = x_knots_sorted[start], x_knots_sorted[end]\n",
    "    \n",
    "    # find the element indices in the x_knots based on the values\n",
    "    idx_left = [i for i, x in enumerate(x_knots) if x == val_start]\n",
    "    idx_right = [i for i, x in enumerate(x_knots) if x == val_end]\n",
    "    \n",
    "    # identify the point sets for both x and y based on previous indicies \n",
    "    x_left = [x_knots[i] for i in idx_left]\n",
    "    x_right = [x_knots[i] for i in idx_right]\n",
    "    y_left = [y_knots[i] for i in idx_left]\n",
    "    y_right = [y_knots[i] for i in idx_right]\n",
    "    \n",
    "    # compare the x_input with val_start and val_end\n",
    "    # x_input too small: breaking the ties by choosing the smallest y values for both points\n",
    "    if x_input <= val_start:\n",
    "        idx_left = idx_left[y_left.index(min(y_left))]\n",
    "        idx_right = idx_right[y_right.index(min(y_right))]\n",
    "    # x_input too large: breaking the ties by choosing the largest y values for both points\n",
    "    elif x_input > val_end:\n",
    "        idx_left = idx_left[y_left.index(max(y_left))]\n",
    "        idx_right = idx_right[y_right.index(max(y_right))]\n",
    "    # x_input somewhere in between: breaking the ties by one smallest y (left) and one largest y (right)\n",
    "    else:\n",
    "        idx_left = idx_left[y_left.index(max(y_left))]\n",
    "        idx_right = idx_right[y_right.index(min(y_right))]\n",
    "    \n",
    "    # assign the values based on the indices\n",
    "    x1, x2 = x_knots[idx_left], x_knots[idx_right]\n",
    "    y1, y2 = y_knots[idx_left], y_knots[idx_right]\n",
    "    return linear_approx(x1, x2, y1, y2, x_input)\n",
    "        \n",
    "    \n",
    "if __name__ == '__main__':\n",
    "    fptr = open(os.environ['OUTPUT_PATH'], 'w')\n",
    "\n",
    "    n = int(input().strip())\n",
    "\n",
    "    x_knots = []\n",
    "\n",
    "    for _ in range(n):\n",
    "        x_knots_item = float(input().strip())\n",
    "        x_knots.append(x_knots_item)\n",
    "\n",
    "    y_knots = []\n",
    "\n",
    "    for _ in range(n):\n",
    "        y_knots_item = float(input().strip())\n",
    "        y_knots.append(y_knots_item)\n",
    "\n",
    "    x_input = float(input().strip())\n",
    "\n",
    "    result = linear_interpolate(n, x_knots, y_knots, x_input)\n",
    "\n",
    "    fptr.write(str(result) + '\\n')\n",
    "\n",
    "    fptr.close()"
   ]
  },
  {
   "cell_type": "code",
   "execution_count": null,
   "metadata": {},
   "outputs": [],
   "source": []
  },
  {
   "cell_type": "code",
   "execution_count": null,
   "metadata": {},
   "outputs": [],
   "source": [
    "#!/bin/python3\n",
    "\n",
    "import math\n",
    "import os\n",
    "import random\n",
    "import re\n",
    "import sys\n",
    "import numpy as np\n",
    "import pandas as pd\n",
    "from sklearn.linear_model import LinearRegression\n",
    "\n",
    "def read_dataframe():\n",
    "    # Return a pandas dataframe from stdin\n",
    "    return pd.read_csv(sys.stdin)\n",
    "\n",
    "def read_matrix():\n",
    "    # Return column names and data as a matrix\n",
    "    df = read_dataframe()\n",
    "    return list(df.columns), df.values\n",
    "\n",
    "def read_list():\n",
    "    # Return column names and data as a list of lists\n",
    "    # Each element in the list corresponds to columns in the data\n",
    "    col_names, val = read_matrix()\n",
    "    return col_names, val.T.tolist()\n",
    "#\n",
    "# Complete the 'main' function below. \n",
    "# You can use the functions read_dataframe, read_matrix, \n",
    "# or read_list to read data from stdin.\n",
    "#\n",
    "# The function is expected to return a STRING.\n",
    "import numpy as np\n",
    "import pandas as pd\n",
    "import os \n",
    "import sys\n",
    "import collections\n",
    "import statsmodels.api as sm\n",
    "import itertools\n",
    "from sklearn.linear_model import LinearRegression\n",
    "\n",
    "\n",
    "\n",
    "def main():\n",
    "    # Write your code here\n",
    "    # read the csv file \n",
    "    df = read_dataframe()\n",
    "    # Q1 place with the largest variation \n",
    "    str_Q1 = df.columns[np.argmax(df.std().tolist())]\n",
    "    \n",
    "    # Q2 median tempature\n",
    "    str_Q2 = str(int(round(np.median(df[(df.Town2 >= 90) & (df.Town2 <= 100)].NYC))))\n",
    "    \n",
    "    # Q3 simple linear regression Q4 most predictive town\n",
    "    # get the town list \n",
    "    town_list = list(df.columns)\n",
    "    town_list.remove('NYC')\n",
    "    # store the result\n",
    "    mse_list = []\n",
    "    sum_param = 0\n",
    "    \n",
    "    # loop over all the towns and record the mse\n",
    "    for town in town_list:\n",
    "        x_constant = sm.add_constant(df[town])\n",
    "        ## fit the model\n",
    "        model_constant = sm.OLS(df.NYC, x_constant).fit()\n",
    "        sum_param += np.abs(model_constant.params[1])\n",
    "        y_pred = model_constant.predict(x_constant)\n",
    "        mse_list.append(np.mean((y_pred - df.NYC)**2))\n",
    "    \n",
    "    # answer \n",
    "    str_Q3 = str(int(round(sum_param)))\n",
    "    str_Q4 = town_list[np.argmin(mse_list)]\n",
    "        \n",
    "    # Q5 two towns \n",
    "    # loop over all the towns and record the mse\n",
    "    comb_list = []\n",
    "    mse_list = []\n",
    "    for idx, comb in enumerate(itertools.combinations(town_list, 2)):\n",
    "            comb = list(comb)\n",
    "            x_constant = sm.add_constant(df[comb])\n",
    "            # fit the model\n",
    "            model_constant = sm.OLS(df.NYC, x_constant).fit()\n",
    "            y_pred = model_constant.predict(x_constant)\n",
    "            comb_list.append(comb)\n",
    "            mse_list.append(np.mean((y_pred - df.NYC)**2))\n",
    "    # answer \n",
    "    str_Q5 = \",\".join(comb_list[np.argmin(mse_list)])\n",
    "    \n",
    "    # summary answer\n",
    "    str_answer = \",\".join([str_Q1, str_Q2, str_Q3, str_Q4, str_Q5])  \n",
    "    return str_answer\n",
    "if __name__ == '__main__':\n",
    "    fptr = open(os.environ['OUTPUT_PATH'], 'w')\n",
    "\n",
    "    result = main()\n",
    "    \n",
    "    if result is None:\n",
    "        result = ''\n",
    "\n",
    "    fptr.write(result + '\\n')\n",
    "\n",
    "    fptr.close()"
   ]
  },
  {
   "cell_type": "code",
   "execution_count": null,
   "metadata": {},
   "outputs": [],
   "source": []
  },
  {
   "cell_type": "code",
   "execution_count": null,
   "metadata": {},
   "outputs": [],
   "source": [
    "#!/bin/python3\n",
    "\n",
    "import math\n",
    "import os\n",
    "import random\n",
    "import re\n",
    "import sys\n",
    "import numpy as np\n",
    "import pandas as pd\n",
    "from sklearn.linear_model import LinearRegression\n",
    "\n",
    "def read_dataframe():\n",
    "    # Return a pandas dataframe from stdin\n",
    "    return pd.read_csv(sys.stdin)\n",
    "\n",
    "def read_matrix():\n",
    "    # Return column names and data as a matrix\n",
    "    df = read_dataframe()\n",
    "    return list(df.columns), df.values\n",
    "\n",
    "def read_list():\n",
    "    # Return column names and data as a list of lists\n",
    "    # Each element in the list corresponds to columns in the data\n",
    "    col_names, val = read_matrix()\n",
    "    return col_names, val.T.tolist()\n",
    "\n",
    "import numpy as np\n",
    "import pandas as pd\n",
    "import os \n",
    "import sys\n",
    "import collections\n",
    "import statsmodels.api as sm\n",
    "import itertools\n",
    "from sklearn.linear_model import LinearRegression\n",
    "\n",
    "\n",
    "#\n",
    "# Complete the 'main' function below.\n",
    "#\n",
    "# The function is expected to return a STRING.\n",
    "#\n",
    "\n",
    "def main():\n",
    "    # Write your code here\n",
    "    # read the csv file \n",
    "    df = read_dataframe()\n",
    "    # get the town list \n",
    "    town_list = list(df.columns)\n",
    "    town_list.remove('NYC')\n",
    "    \n",
    "    # store the result\n",
    "    \n",
    "    town_list_final = []\n",
    "    \n",
    "    # loop over all the towns and record the mse\n",
    "    # forward selection \n",
    "    # p = 1\n",
    "    mse_list = []\n",
    "    for town in town_list:\n",
    "        x_constant = sm.add_constant(df[town])\n",
    "        ## fit the model\n",
    "        model_constant = sm.OLS(df.NYC, x_constant).fit()\n",
    "        y_pred = model_constant.predict(x_constant)\n",
    "        mse_list.append(np.mean((y_pred - df.NYC)**2))\n",
    "    best_town = town_list[np.argmin(mse_list)]\n",
    "    town_list_final.append(best_town)\n",
    "    town_list.remove(best_town)\n",
    "    \n",
    "    # p = 2\n",
    "    mse_list = []\n",
    "    for town in town_list:\n",
    "        town_tmp = [i for i in town_list_final].append(town)\n",
    "        x_constant = sm.add_constant(df[town])\n",
    "        ## fit the model\n",
    "        model_constant = sm.OLS(df.NYC, x_constant).fit()\n",
    "        y_pred = model_constant.predict(x_constant)\n",
    "        mse_list.append(np.mean((y_pred - df.NYC)**2))\n",
    "    best_town = town_list[np.argmin(mse_list)]\n",
    "    town_list_final.append(best_town)\n",
    "    town_list.remove(best_town)\n",
    "    \n",
    "    # p = 3\n",
    "    mse_list = []\n",
    "    for town in town_list:\n",
    "        town_tmp = [i for i in town_list_final].append(town)\n",
    "        x_constant = sm.add_constant(df[town])\n",
    "        ## fit the model\n",
    "        model_constant = sm.OLS(df.NYC, x_constant).fit()\n",
    "        y_pred = model_constant.predict(x_constant)\n",
    "        mse_list.append(np.mean((y_pred - df.NYC)**2))\n",
    "    best_town = town_list[np.argmin(mse_list)]\n",
    "    town_list_final.append(best_town)\n",
    "    town_list.remove(best_town)\n",
    "    \n",
    "    # p = 4\n",
    "    mse_list = []\n",
    "    for town in town_list:\n",
    "        town_tmp = [i for i in town_list_final].append(town)\n",
    "        x_constant = sm.add_constant(df[town])\n",
    "        ## fit the model\n",
    "        model_constant = sm.OLS(df.NYC, x_constant).fit()\n",
    "        y_pred = model_constant.predict(x_constant)\n",
    "        mse_list.append(np.mean((y_pred - df.NYC)**2))\n",
    "    best_town = town_list[np.argmin(mse_list)]\n",
    "    town_list_final.append(best_town)\n",
    "    town_list.remove(best_town)\n",
    "    \n",
    "    # p = 5\n",
    "    mse_list = []\n",
    "    for town in town_list:\n",
    "        town_tmp = [i for i in town_list_final].append(town)\n",
    "        x_constant = sm.add_constant(df[town])\n",
    "        ## fit the model\n",
    "        model_constant = sm.OLS(df.NYC, x_constant).fit()\n",
    "        y_pred = model_constant.predict(x_constant)\n",
    "        mse_list.append(np.mean((y_pred - df.NYC)**2))\n",
    "    best_town = town_list[np.argmin(mse_list)]\n",
    "    town_list_final.append(best_town)\n",
    "    town_list.remove(best_town)\n",
    "    \n",
    "    # output the results\n",
    "    return ','.join(town_list_final)\n",
    "    \n",
    "    \n",
    "    \n",
    "if __name__ == '__main__':"
   ]
  }
 ],
 "metadata": {
  "kernelspec": {
   "display_name": "Python 3",
   "language": "python",
   "name": "python3"
  },
  "language_info": {
   "codemirror_mode": {
    "name": "ipython",
    "version": 3
   },
   "file_extension": ".py",
   "mimetype": "text/x-python",
   "name": "python",
   "nbconvert_exporter": "python",
   "pygments_lexer": "ipython3",
   "version": "3.6.10"
  }
 },
 "nbformat": 4,
 "nbformat_minor": 4
}
